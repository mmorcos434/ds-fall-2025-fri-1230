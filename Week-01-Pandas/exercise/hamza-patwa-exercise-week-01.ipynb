{
 "cells": [
  {
   "cell_type": "markdown",
   "metadata": {},
   "source": [
    "# First print your name in the cell below then save this file. (or something nice about your instructor)"
   ]
  },
  {
   "cell_type": "code",
   "execution_count": 1,
   "metadata": {},
   "outputs": [
    {
     "name": "stdout",
     "output_type": "stream",
     "text": [
      "Hamza Patwa\n"
     ]
    }
   ],
   "source": [
    "# In this cell print your name\n",
    "print('Hamza Patwa')\n"
   ]
  },
  {
   "cell_type": "markdown",
   "metadata": {},
   "source": [
    "# Data wrangling with Pandas exercise\n",
    "* For this exercise we will be using the `listings.csv` data file."
   ]
  },
  {
   "cell_type": "code",
   "execution_count": 2,
   "metadata": {},
   "outputs": [],
   "source": [
    "import pandas as pd\n",
    "import numpy as np"
   ]
  },
  {
   "cell_type": "markdown",
   "metadata": {},
   "source": [
    "# Load in the data file using `pd.read_csv()`"
   ]
  },
  {
   "cell_type": "code",
   "execution_count": 3,
   "metadata": {},
   "outputs": [],
   "source": [
    "df = pd.read_csv('../data/listings.csv')"
   ]
  },
  {
   "cell_type": "markdown",
   "metadata": {},
   "source": [
    "## Exercise 2 - Filtering\n",
    "\n",
    "Return the following subsets of the dataframe.\n",
    "\n",
    "1. How many listings are there with a price less than 100? \n",
    "\n",
    "\n",
    "2. Find how many listings there are in just Brooklyn.\n",
    "\n",
    "\n",
    "3. Find how many listings there are in Brooklyn with a price less than 100.\n",
    "\n",
    "\n",
    "4. Using `.isin()` select anyone that has the host name of Michael, David, John, and Daniel.\n",
    "\n",
    "\n",
    "5. Create a new column called `adjusted_price` that has $100 added to every listing in Williamsburg.  The prices for all other listings should be the same as the were before. \n",
    "\n",
    "\n",
    "6. What % of the rooms are private, and what % of the rooms are shared.  \n",
    "    * Hint, use `.value_counts()`\n"
   ]
  },
  {
   "cell_type": "code",
   "execution_count": 4,
   "metadata": {},
   "outputs": [
    {
     "name": "stdout",
     "output_type": "stream",
     "text": [
      "Number of listings with price less than $100: 22778\n"
     ]
    }
   ],
   "source": [
    "# 1. How many listings are there with a price less than 100?\n",
    "select_condition = df['price'] < 100\n",
    "print(f\"Number of listings with price less than $100: {len(df[select_condition])}\")"
   ]
  },
  {
   "cell_type": "code",
   "execution_count": 5,
   "metadata": {},
   "outputs": [
    {
     "name": "stdout",
     "output_type": "stream",
     "text": [
      "Number of listings in Brooklyn: 18632\n"
     ]
    }
   ],
   "source": [
    "# 2. Make a new DataFrame of listings in Brooklyn named `df_bk`\n",
    "# and find how many listings in just Brooklyn.\n",
    "df_bk = df[df['neighbourhood_group'] == 'Brooklyn']\n",
    "print(f\"Number of listings in Brooklyn: {len(df_bk)}\")"
   ]
  },
  {
   "cell_type": "code",
   "execution_count": 6,
   "metadata": {},
   "outputs": [
    {
     "name": "stdout",
     "output_type": "stream",
     "text": [
      "Number of listings in Brooklyn under $100: 10473\n"
     ]
    }
   ],
   "source": [
    "# 3. Find how many listings there are in Brooklyn with a price less than 100.\n",
    "bk_under_100 = df_bk[df_bk['price'] < 100]\n",
    "print(f\"Number of listings in Brooklyn under $100: {len(bk_under_100)}\")"
   ]
  },
  {
   "cell_type": "code",
   "execution_count": 7,
   "metadata": {},
   "outputs": [
    {
     "name": "stdout",
     "output_type": "stream",
     "text": [
      "Number of listings with hosts named Michael, David, John, Daniel: 1258\n",
      "\n",
      "Distribution by host name:\n",
      "host_name\n",
      "Michael    387\n",
      "David      348\n",
      "John       270\n",
      "Daniel     253\n",
      "Name: count, dtype: int64\n"
     ]
    }
   ],
   "source": [
    "# 4. Using `.isin()` select anyone that has the host name of Michael, David, John, and Daniel.\n",
    "# How many total are there that have those names\n",
    "host_names = ['Michael', 'David', 'John', 'Daniel']\n",
    "host_filter = df[df['host_name'].isin(host_names)]\n",
    "print(f\"Number of listings with hosts named {', '.join(host_names)}: {len(host_filter)}\")\n",
    "\n",
    "# Show distribution of these names\n",
    "print(\"\\nDistribution by host name:\")\n",
    "print(host_filter['host_name'].value_counts())"
   ]
  },
  {
   "cell_type": "code",
   "execution_count": 8,
   "metadata": {},
   "outputs": [
    {
     "name": "stdout",
     "output_type": "stream",
     "text": [
      "Sample of Williamsburg listings with original and adjusted prices:\n",
      "   neighbourhood  price  adjusted_price\n",
      "11  Williamsburg    109             209\n",
      "15  Williamsburg    299             399\n",
      "35  Williamsburg    131             231\n",
      "38  Williamsburg    175             275\n",
      "42  Williamsburg     80             180\n"
     ]
    }
   ],
   "source": [
    "# 5. Create a new column called `adjusted_price` that has $100 added to every listing in Williamsburg.\n",
    "# The prices for all other listings should be the same as they were before.\n",
    "df['adjusted_price'] = df['price']\n",
    "df.loc[df['neighbourhood'] == 'Williamsburg', 'adjusted_price'] += 100\n",
    "\n",
    "# Verify the changes\n",
    "williamsburg_check = df[df['neighbourhood'] == 'Williamsburg'].head()\n",
    "print(\"Sample of Williamsburg listings with original and adjusted prices:\")\n",
    "print(williamsburg_check[['neighbourhood', 'price', 'adjusted_price']])"
   ]
  },
  {
   "cell_type": "code",
   "execution_count": 9,
   "metadata": {},
   "outputs": [
    {
     "name": "stdout",
     "output_type": "stream",
     "text": [
      "Room type distribution:\n",
      "Entire home/apt: 51.58%\n",
      "Private room: 45.44%\n",
      "Shared room: 2.12%\n",
      "Hotel room: 0.86%\n"
     ]
    }
   ],
   "source": [
    "# 6. What % of the rooms are private, and what % of the rooms are shared.\n",
    "room_type_counts = df['room_type'].value_counts()\n",
    "room_type_percentages = (room_type_counts / len(df) * 100).round(2)\n",
    "\n",
    "print(\"Room type distribution:\")\n",
    "for room_type, percentage in room_type_percentages.items():\n",
    "    print(f\"{room_type}: {percentage}%\")"
   ]
  },
  {
   "cell_type": "markdown",
   "metadata": {},
   "source": [
    "# Exercise 3 - Grouping\n",
    "\n",
    "1. Using `groupby`, count how many listings are in each neighbourhood_group.\n",
    "\n",
    "\n",
    "2. Using `groupby`, find the mean price for each of the neighbourhood_groups. \n",
    "\n",
    "\n",
    "3. Using `groupby` and `.agg()`, find the min and max price for each of the neighbourhood_groups. \n",
    "\n",
    "\n",
    "4. Using `groupby`, find the median price for each room type in each neighbourhood_group.\n",
    "\n",
    "\n",
    "5. Using `groupby` and `.agg()`, find the count, min, max, mean, median, and std of the prices for each room type in each neighbourhood_group."
   ]
  },
  {
   "cell_type": "code",
   "execution_count": 10,
   "metadata": {},
   "outputs": [
    {
     "name": "stdout",
     "output_type": "stream",
     "text": [
      "Number of listings in each neighbourhood group:\n",
      "neighbourhood_group\n",
      "Bronx             1183\n",
      "Brooklyn         18632\n",
      "Manhattan        20580\n",
      "Queens            5791\n",
      "Staten Island      341\n",
      "dtype: int64\n"
     ]
    }
   ],
   "source": [
    "# 1. Using `groupby`, count how many listings are in each neighbourhood_group.\n",
    "neighbourhood_counts = df.groupby('neighbourhood_group').size()\n",
    "print(\"Number of listings in each neighbourhood group:\")\n",
    "print(neighbourhood_counts)"
   ]
  },
  {
   "cell_type": "code",
   "execution_count": 11,
   "metadata": {},
   "outputs": [
    {
     "name": "stdout",
     "output_type": "stream",
     "text": [
      "Average price by neighbourhood group:\n",
      "neighbourhood_group\n",
      "Bronx             92.75\n",
      "Brooklyn         120.23\n",
      "Manhattan        191.88\n",
      "Queens            99.75\n",
      "Staten Island    110.95\n",
      "Name: price, dtype: float64\n"
     ]
    }
   ],
   "source": [
    "# 2. Using `groupby`, find the mean price for each of the neighbourhood_groups.\n",
    "mean_prices = df.groupby('neighbourhood_group')['price'].mean().round(2)\n",
    "print(\"Average price by neighbourhood group:\")\n",
    "print(mean_prices)"
   ]
  },
  {
   "cell_type": "code",
   "execution_count": 12,
   "metadata": {},
   "outputs": [
    {
     "name": "stdout",
     "output_type": "stream",
     "text": [
      "Average price by room type:\n",
      "room_type\n",
      "Entire home/apt    199.40\n",
      "Hotel room         275.02\n",
      "Private room        91.45\n",
      "Shared room         87.06\n",
      "Name: price, dtype: float64\n"
     ]
    }
   ],
   "source": [
    "# 2.5. Using `groupby`, find the mean price for each room_type.\n",
    "room_type_means = df.groupby('room_type')['price'].mean().round(2)\n",
    "print(\"Average price by room type:\")\n",
    "print(room_type_means)"
   ]
  },
  {
   "cell_type": "code",
   "execution_count": 13,
   "metadata": {},
   "outputs": [
    {
     "name": "stdout",
     "output_type": "stream",
     "text": [
      "Price ranges by neighbourhood group:\n",
      "                     min    max\n",
      "neighbourhood_group            \n",
      "Bronx                 16   1404\n",
      "Brooklyn               0  10000\n",
      "Manhattan              0  10000\n",
      "Queens                 0  10000\n",
      "Staten Island         19   1200\n"
     ]
    }
   ],
   "source": [
    "# 3. Using `groupby` and `.agg()`, find the min and max price for each of the neighbourhood_groups.\n",
    "price_stats = df.groupby('neighbourhood_group')['price'].agg(['min', 'max'])\n",
    "print(\"Price ranges by neighbourhood group:\")\n",
    "print(price_stats)"
   ]
  },
  {
   "cell_type": "code",
   "execution_count": 14,
   "metadata": {},
   "outputs": [
    {
     "name": "stdout",
     "output_type": "stream",
     "text": [
      "Average price by neighbourhood group and room type:\n",
      "neighbourhood_group  room_type      \n",
      "Bronx                Entire home/apt    138.00\n",
      "                     Private room        68.42\n",
      "                     Shared room         66.39\n",
      "Brooklyn             Entire home/apt    171.59\n",
      "                     Hotel room         147.30\n",
      "                     Private room        71.29\n",
      "                     Shared room         57.87\n",
      "Manhattan            Entire home/apt    231.34\n",
      "                     Hotel room         292.52\n",
      "                     Private room       128.28\n",
      "                     Shared room        111.74\n",
      "Queens               Entire home/apt    150.17\n",
      "                     Hotel room         139.06\n",
      "                     Private room        69.97\n",
      "                     Shared room         89.89\n",
      "Staten Island        Entire home/apt    151.72\n",
      "                     Private room        70.31\n",
      "                     Shared room         46.00\n",
      "Name: price, dtype: float64\n",
      "\n",
      "Alternative view (as table):\n",
      "room_type            Entire home/apt  Hotel room  Private room  Shared room\n",
      "neighbourhood_group                                                        \n",
      "Bronx                         138.00         NaN         68.42        66.39\n",
      "Brooklyn                      171.59      147.30         71.29        57.87\n",
      "Manhattan                     231.34      292.52        128.28       111.74\n",
      "Queens                        150.17      139.06         69.97        89.89\n",
      "Staten Island                 151.72         NaN         70.31        46.00\n"
     ]
    }
   ],
   "source": [
    "# 4. Using `groupby`, find the mean price for each room_type in each neighbourhood_group.\n",
    "room_neighborhood_means = df.groupby(['neighbourhood_group', 'room_type'])['price'].mean().round(2)\n",
    "print(\"Average price by neighbourhood group and room type:\")\n",
    "print(room_neighborhood_means)\n",
    "\n",
    "# Optional: prettier display using unstack\n",
    "print(\"\\nAlternative view (as table):\")\n",
    "print(room_neighborhood_means.unstack())"
   ]
  },
  {
   "cell_type": "code",
   "execution_count": 15,
   "metadata": {},
   "outputs": [
    {
     "name": "stdout",
     "output_type": "stream",
     "text": [
      "Detailed statistics by neighbourhood group and room type:\n",
      "                                     count  min    max    mean  <lambda_0>  \\\n",
      "neighbourhood_group room_type                                                \n",
      "Bronx               Entire home/apt    415   25   1404  138.00       103.0   \n",
      "                    Private room       722   16    700   68.42        55.0   \n",
      "                    Shared room         46   20    800   66.39        44.0   \n",
      "Brooklyn            Entire home/apt   9112   20  10000  171.59       135.0   \n",
      "                    Hotel room          30    0    399  147.30       129.0   \n",
      "                    Private room      9159   10   2500   71.29        60.0   \n",
      "                    Shared room        331   15   1500   57.87        36.0   \n",
      "Manhattan           Entire home/apt  12209    0  10000  231.34       165.0   \n",
      "                    Hotel room         351    0   2211  292.52       210.0   \n",
      "                    Private room      7601   10  10000  128.28        80.0   \n",
      "                    Shared room        419   10  10000  111.74        60.0   \n",
      "Queens              Entire home/apt   2090   10  10000  150.17       115.0   \n",
      "                    Hotel room          17    0    249  139.06       149.0   \n",
      "                    Private room      3499   18   9000   69.97        55.0   \n",
      "                    Shared room        185   14   3000   89.89        40.0   \n",
      "Staten Island       Entire home/apt    172   39   1200  151.72       111.0   \n",
      "                    Private room       163   20    800   70.31        55.0   \n",
      "                    Shared room          6   19     82   46.00        38.0   \n",
      "\n",
      "                                        std  \n",
      "neighbourhood_group room_type                \n",
      "Bronx               Entire home/apt  126.03  \n",
      "                    Private room      57.34  \n",
      "                    Shared room      114.44  \n",
      "Brooklyn            Entire home/apt  236.73  \n",
      "                    Hotel room        91.15  \n",
      "                    Private room      69.02  \n",
      "                    Shared room       92.22  \n",
      "Manhattan           Entire home/apt  410.31  \n",
      "                    Hotel room       315.92  \n",
      "                    Private room     448.68  \n",
      "                    Shared room      502.73  \n",
      "Queens              Entire home/apt  252.61  \n",
      "                    Hotel room        50.74  \n",
      "                    Private room     163.81  \n",
      "                    Shared room      275.68  \n",
      "Staten Island       Entire home/apt  147.52  \n",
      "                    Private room      70.76  \n",
      "                    Shared room       28.45  \n"
     ]
    }
   ],
   "source": [
    "# 5. Using `groupby` and `.agg()`, find the count, min, max, mean, median, and std of the prices\n",
    "# for each room type in each neighbourhood_group.\n",
    "detailed_stats = df.groupby(['neighbourhood_group', 'room_type'])['price'].agg([\n",
    "    'count',\n",
    "    'min',\n",
    "    'max',\n",
    "    'mean',\n",
    "    lambda x: x.median(),  # median\n",
    "    'std'\n",
    "]).round(2)\n",
    "\n",
    "# Rename the lambda function column to 'median'\n",
    "detailed_stats = detailed_stats.rename(columns={'<lambda>': 'median'})\n",
    "\n",
    "print(\"Detailed statistics by neighbourhood group and room type:\")\n",
    "print(detailed_stats)"
   ]
  },
  {
   "cell_type": "markdown",
   "metadata": {},
   "source": [
    "# Load, Merge, and Export files.\n",
    "1. Load the `prices.csv` and the `n_listings.csv`\n",
    "    * Having an error..? Inspect the actual csv file if you're having trouble\n",
    "\n",
    "2. Do join that keeps all the records for each table.\n",
    "    * Neighbourhood groups should include ['Bronx', 'Brooklyn', 'Manhattan', 'Queens', 'Staten Island',\n",
    "       'LongIsland']\n",
    "\n",
    "       \n",
    "3. Save your joined csv as `joined.csv` into the data folder. \n",
    "\n",
    "\n",
    "4. Load your saved table and see if it looks the same or different that the DataFrame you used to create it. "
   ]
  },
  {
   "cell_type": "code",
   "execution_count": 18,
   "metadata": {},
   "outputs": [
    {
     "name": "stdout",
     "output_type": "stream",
     "text": [
      "Prices DataFrame:\n",
      "  neighbourhood_group   mean_price\n",
      "0               Bronx    92.751479\n",
      "1            Brooklyn   120.225258\n",
      "2           Manhattan   191.880466\n",
      "3              Queens    99.754965\n",
      "4       Staten Island   110.947214\n",
      "\n",
      "Listings DataFrame:\n",
      "  neighbourhood_group;n_listings\n",
      "0                     Bronx;1183\n",
      "1                 Brooklyn;18632\n",
      "2                Manhattan;20580\n",
      "3                LongIsland;4121\n"
     ]
    }
   ],
   "source": [
    "# 1. Load the `prices.csv` and the `n_listings.csv`\n",
    "df_prices = pd.read_csv('../data/prices.csv')\n",
    "n_listings_df = pd.read_csv('../data/n_listings.csv')\n",
    "\n",
    "print(\"Prices DataFrame:\")\n",
    "print(df_prices.head())\n",
    "print(\"\\nListings DataFrame:\")\n",
    "print(n_listings_df.head())"
   ]
  },
  {
   "cell_type": "code",
   "execution_count": null,
   "metadata": {},
   "outputs": [
    {
     "data": {
      "text/html": [
       "<div>\n",
       "<style scoped>\n",
       "    .dataframe tbody tr th:only-of-type {\n",
       "        vertical-align: middle;\n",
       "    }\n",
       "\n",
       "    .dataframe tbody tr th {\n",
       "        vertical-align: top;\n",
       "    }\n",
       "\n",
       "    .dataframe thead th {\n",
       "        text-align: right;\n",
       "    }\n",
       "</style>\n",
       "<table border=\"1\" class=\"dataframe\">\n",
       "  <thead>\n",
       "    <tr style=\"text-align: right;\">\n",
       "      <th></th>\n",
       "      <th>neighbourhood_group</th>\n",
       "      <th>mean_price</th>\n",
       "      <th>n_listings</th>\n",
       "    </tr>\n",
       "  </thead>\n",
       "  <tbody>\n",
       "    <tr>\n",
       "      <th>0</th>\n",
       "      <td>Bronx</td>\n",
       "      <td>92.751479</td>\n",
       "      <td>1183.0</td>\n",
       "    </tr>\n",
       "    <tr>\n",
       "      <th>1</th>\n",
       "      <td>Brooklyn</td>\n",
       "      <td>120.225258</td>\n",
       "      <td>18632.0</td>\n",
       "    </tr>\n",
       "    <tr>\n",
       "      <th>2</th>\n",
       "      <td>LongIsland</td>\n",
       "      <td>NaN</td>\n",
       "      <td>4121.0</td>\n",
       "    </tr>\n",
       "    <tr>\n",
       "      <th>3</th>\n",
       "      <td>Manhattan</td>\n",
       "      <td>191.880466</td>\n",
       "      <td>20580.0</td>\n",
       "    </tr>\n",
       "    <tr>\n",
       "      <th>4</th>\n",
       "      <td>Queens</td>\n",
       "      <td>99.754965</td>\n",
       "      <td>NaN</td>\n",
       "    </tr>\n",
       "  </tbody>\n",
       "</table>\n",
       "</div>"
      ],
      "text/plain": [
       "  neighbourhood_group   mean_price  n_listings\n",
       "0               Bronx    92.751479      1183.0\n",
       "1            Brooklyn   120.225258     18632.0\n",
       "2          LongIsland          NaN      4121.0\n",
       "3           Manhattan   191.880466     20580.0\n",
       "4              Queens    99.754965         NaN"
      ]
     },
     "execution_count": 81,
     "metadata": {},
     "output_type": "execute_result"
    }
   ],
   "source": [
    "# 2. Do join that keeps all the records for each table.\n",
    "df_listings = pd.read_csv(\"../data/n_listings.csv\", sep=';')\n",
    "df_merged = pd.merge(df_prices, df_listings, on='neighbourhood_group', how='outer')\n",
    "df_merged.head()"
   ]
  },
  {
   "cell_type": "code",
   "execution_count": null,
   "metadata": {},
   "outputs": [
    {
     "name": "stdout",
     "output_type": "stream",
     "text": [
      "File saved as 'joined.csv' in the data folder\n"
     ]
    }
   ],
   "source": [
    "# 3. Save your joined csv as `joined.csv` into the data folder.\n",
    "joined_df.to_csv('../data/joined.csv', index=False)\n",
    "print(\"File saved as 'joined.csv' in the data folder\")"
   ]
  },
  {
   "cell_type": "code",
   "execution_count": null,
   "metadata": {},
   "outputs": [
    {
     "name": "stdout",
     "output_type": "stream",
     "text": [
      "Loaded DataFrame from joined.csv:\n",
      "      neighbourhood_group   mean_price        id  \\\n",
      "0                   Bronx    92.751479     44096   \n",
      "1                   Bronx    92.751479     45935   \n",
      "2                   Bronx    92.751479     54626   \n",
      "3                   Bronx    92.751479     63588   \n",
      "4                   Bronx    92.751479     63610   \n",
      "...                   ...          ...       ...   \n",
      "46522       Staten Island   110.947214  44288244   \n",
      "46523       Staten Island   110.947214  44322571   \n",
      "46524       Staten Island   110.947214  44322911   \n",
      "46525       Staten Island   110.947214  44415969   \n",
      "46526       Staten Island   110.947214  44574046   \n",
      "\n",
      "                                                    name    host_id  \\\n",
      "0                                       Room with a View     190409   \n",
      "1                           Room in Beautiful Townhouse.     204586   \n",
      "2                         Cozy bedroom by Yankee Stadium     190409   \n",
      "3                                                    LL3     295128   \n",
      "4      DOMINIQUE'S NY mini efficiency pad* SANITIZED*...     310670   \n",
      "...                                                  ...        ...   \n",
      "46522                   Huge Private Room/Suite @ Ferry.  117492425   \n",
      "46523                                  Rosebank Townhome  299411542   \n",
      "46524                                       Oakwood Room  299411542   \n",
      "46525                          Style Home away from home  121399223   \n",
      "46526                                Home away from home  356621108   \n",
      "\n",
      "             host_name  neighbourhood  latitude  longitude        room_type  \\\n",
      "0             Waundell     Highbridge  40.83232  -73.93184     Private room   \n",
      "1                    L    Port Morris  40.80640  -73.92395     Private room   \n",
      "2             Waundell     Highbridge  40.83075  -73.93058     Private room   \n",
      "3         Carol Gloria   Clason Point  40.81309  -73.85514     Private room   \n",
      "4                  Vie    Eastchester  40.88100  -73.83511  Entire home/apt   \n",
      "...                ...            ...       ...        ...              ...   \n",
      "46522             Dine     St. George  40.64602  -74.07896     Private room   \n",
      "46523            Karen        Clifton  40.61847  -74.06974     Private room   \n",
      "46524            Karen        Oakwood  40.56436  -74.13019     Private room   \n",
      "46525  Weifeng(Daniel)  Tompkinsville  40.63380  -74.08298  Entire home/apt   \n",
      "46526           Andrew   Howland Hook  40.63348  -74.16950  Entire home/apt   \n",
      "\n",
      "       price  minimum_nights  number_of_reviews last_review  \\\n",
      "0         50               1                277  2020-02-25   \n",
      "1         60               3                  0         NaN   \n",
      "2         55               1                181  2020-03-06   \n",
      "3         89               2                  0         NaN   \n",
      "4        102               2                 44  2020-06-28   \n",
      "...      ...             ...                ...         ...   \n",
      "46522     49               4                  0         NaN   \n",
      "46523    300               1                  0         NaN   \n",
      "46524    150               1                  0         NaN   \n",
      "46525    160               1                  1  2020-08-02   \n",
      "46526    250               1                  0         NaN   \n",
      "\n",
      "       reviews_per_month  calculated_host_listings_count  availability_365  \\\n",
      "0                   2.29                               3               364   \n",
      "1                    NaN                               1                83   \n",
      "2                   1.66                               3               364   \n",
      "3                    NaN                               7               270   \n",
      "4                   0.49                               9               363   \n",
      "...                  ...                             ...               ...   \n",
      "46522                NaN                               8               365   \n",
      "46523                NaN                               2               179   \n",
      "46524                NaN                               2               179   \n",
      "46525               1.00                               3               365   \n",
      "46526                NaN                               1                14   \n",
      "\n",
      "       new_price  \n",
      "0           5000  \n",
      "1           6000  \n",
      "2           5500  \n",
      "3           8900  \n",
      "4          10200  \n",
      "...          ...  \n",
      "46522       4900  \n",
      "46523      30000  \n",
      "46524      15000  \n",
      "46525      16000  \n",
      "46526      25000  \n",
      "\n",
      "[46527 rows x 18 columns]\n",
      "\n",
      "Are the dataframes identical?\n",
      "True\n"
     ]
    }
   ],
   "source": [
    "# 4. Load your newly saved file, see if it looks the same.\n",
    "loaded_df = pd.read_csv('../data/joined.csv')\n",
    "\n",
    "print(\"Loaded DataFrame from joined.csv:\")\n",
    "print(loaded_df)\n",
    "\n",
    "# Compare with original joined dataframe\n",
    "print(\"\\nAre the dataframes identical?\")\n",
    "print(loaded_df.equals(joined_df))"
   ]
  },
  {
   "cell_type": "markdown",
   "metadata": {},
   "source": [
    "# Extra Credit\n",
    "Every question below this cell is extra credit and optional."
   ]
  },
  {
   "cell_type": "markdown",
   "metadata": {},
   "source": [
    "### 1. (Easy) Explore this new PandasAI Package and tell me what its all about because I've never used it. \n",
    "* https://www.youtube.com/watch?v=5w6eZaoDVVk&ab_channel=CodingIsFun  \n",
    "* See if you can use it on the listings.csv to find out some cool info. or answer some of the questions above. "
   ]
  },
  {
   "cell_type": "markdown",
   "metadata": {},
   "source": [
    "### 2. (Very Easy) Find other cool Panda packages / add ons and show us what they can do well. And how you installed them. "
   ]
  },
  {
   "cell_type": "markdown",
   "metadata": {},
   "source": [
    "### 3. (Medium) Use the grammys.csv data for the next section of questions.\n",
    "\n",
    "1. Who was won Album of the Year in 2016?\n",
    "\n",
    "\n",
    "2. Who won Best Rap Album in 2009?\n",
    "\n",
    "\n",
    "3. How many awards was Kendrick Lamar nomiated for, and how many did he win...?"
   ]
  },
  {
   "cell_type": "code",
   "execution_count": null,
   "metadata": {},
   "outputs": [
    {
     "name": "stdout",
     "output_type": "stream",
     "text": [
      "First few rows of the Grammy's dataset:\n",
      "   year                                           category  \\\n",
      "0  1959                                  Album of the Year   \n",
      "1  1959                                   Best Album Cover   \n",
      "2  1959                                   Best Arrangement   \n",
      "3  1959  Best Classical Performance - Chamber Music (in...   \n",
      "4  1959  Best Classical Performance - Instrumentalist (...   \n",
      "\n",
      "                      nominee  \\\n",
      "0  The Music from Peter Gunn.   \n",
      "1             Only the Lonely   \n",
      "2   The Music From Peter Gunn   \n",
      "3      Beethoven: Quartet 130   \n",
      "4      Segovia Golden Jubilee   \n",
      "\n",
      "                                             workers  winner  \n",
      "0                                      Henry Mancini    True  \n",
      "1                       Frank Sinatra (art director)    True  \n",
      "2                    Henry Mancini (artist/arranger)    True  \n",
      "3  The Hollywood String Quartet, Paul Shure (arti...    True  \n",
      "4                                     Andrés Segovia    True  \n",
      "\n",
      "Column names:\n",
      "['year', 'category', 'nominee', 'workers', 'winner']\n"
     ]
    }
   ],
   "source": [
    "# Load the Grammy's dataset\n",
    "grammys_df = pd.read_csv('../data/grammys.csv')\n",
    "\n",
    "# Display the first few rows to understand the structure\n",
    "print(\"First few rows of the Grammy's dataset:\")\n",
    "print(grammys_df.head())\n",
    "\n",
    "# Display column names to understand what we're working with\n",
    "print(\"\\nColumn names:\")\n",
    "print(grammys_df.columns.tolist())"
   ]
  },
  {
   "cell_type": "code",
   "execution_count": null,
   "metadata": {},
   "outputs": [
    {
     "name": "stdout",
     "output_type": "stream",
     "text": [
      "Album of the Year winner in 2016:\n",
      "No winner found\n"
     ]
    }
   ],
   "source": [
    "# 1. Who won Album of the Year in 2016?\n",
    "aoty_2016 = grammys_df[\n",
    "    (grammys_df['year'] == 2016) &\n",
    "    (grammys_df['category'] == 'Album Of The Year') &\n",
    "    (grammys_df['winner'] == True)\n",
    "]\n",
    "\n",
    "print(\"Album of the Year winner in 2016:\")\n",
    "print(aoty_2016[['nominee']].iloc[0] if not aoty_2016.empty else \"No winner found\")"
   ]
  },
  {
   "cell_type": "code",
   "execution_count": null,
   "metadata": {},
   "outputs": [
    {
     "name": "stdout",
     "output_type": "stream",
     "text": [
      "Best Rap Album winner in 2009:\n",
      "nominee    Tha Carter III\n",
      "Name: 4396, dtype: object\n"
     ]
    }
   ],
   "source": [
    "# 2. Who won Best Rap Album in 2009?\n",
    "rap_2009 = grammys_df[\n",
    "    (grammys_df['year'] == 2009) &\n",
    "    (grammys_df['category'] == 'Best Rap Album') &\n",
    "    (grammys_df['winner'] == True)\n",
    "]\n",
    "\n",
    "print(\"Best Rap Album winner in 2009:\")\n",
    "print(rap_2009[['nominee']].iloc[0] if not rap_2009.empty else \"No winner found\")"
   ]
  },
  {
   "cell_type": "code",
   "execution_count": null,
   "metadata": {},
   "outputs": [
    {
     "name": "stdout",
     "output_type": "stream",
     "text": [
      "Kendrick Lamar statistics:\n",
      "Total nominations: 2\n",
      "Total wins: 1\n",
      "Win rate: 50.0%\n",
      "\n",
      "Breakdown of wins by category:\n",
      "category\n",
      "Best Music Video    1\n",
      "dtype: int64\n"
     ]
    }
   ],
   "source": [
    "# 3. How many awards was Kendrick Lamar nominated for, and how many did he win?\n",
    "kendrick_nominations = grammys_df[grammys_df['nominee'].str.contains('Kendrick Lamar', na=False)]\n",
    "\n",
    "total_nominations = len(kendrick_nominations)\n",
    "total_wins = len(kendrick_nominations[kendrick_nominations['winner'] == True])\n",
    "\n",
    "print(f\"Kendrick Lamar statistics:\")\n",
    "print(f\"Total nominations: {total_nominations}\")\n",
    "print(f\"Total wins: {total_wins}\")\n",
    "print(f\"Win rate: {(total_wins/total_nominations*100):.1f}%\")\n",
    "\n",
    "print(\"\\nBreakdown of wins by category:\")\n",
    "wins_by_category = kendrick_nominations[kendrick_nominations['winner'] == True].groupby('category').size()\n",
    "print(wins_by_category)"
   ]
  },
  {
   "cell_type": "markdown",
   "metadata": {},
   "source": [
    "### (Hard) Load the Game Logs for 2022 and add the column names using a dictionary.  \n",
    "* [Link to the data page](https://www.retrosheet.org/gamelogs/)\n",
    "* [Link to the column names](https://procatinator.com/)\n",
    "* haha, gotta find them yourself!"
   ]
  },
  {
   "cell_type": "code",
   "execution_count": null,
   "metadata": {},
   "outputs": [
    {
     "name": "stdout",
     "output_type": "stream",
     "text": [
      "Error downloading/processing 2022 data: 'utf-8' codec can't decode byte 0xed in position 10: invalid continuation byte\n",
      "Failed to load 2022 game logs\n"
     ]
    }
   ],
   "source": []
  },
  {
   "cell_type": "markdown",
   "metadata": {},
   "source": [
    "### (Extra Hard) Download the files for the past 5 years into a new folder and add them all into one data frame using pandas, then save that new file.\n",
    "* Try to not hard code in the file names. We want to do this programmatically because what if we want to add new/more file names in the future."
   ]
  }
 ],
 "metadata": {
  "kernelspec": {
   "display_name": ".venv (3.13.7)",
   "language": "python",
   "name": "python3"
  },
  "language_info": {
   "codemirror_mode": {
    "name": "ipython",
    "version": 3
   },
   "file_extension": ".py",
   "mimetype": "text/x-python",
   "name": "python",
   "nbconvert_exporter": "python",
   "pygments_lexer": "ipython3",
   "version": "3.13.7"
  }
 },
 "nbformat": 4,
 "nbformat_minor": 4
}
