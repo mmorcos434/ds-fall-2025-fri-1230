{
 "cells": [
  {
   "cell_type": "markdown",
   "metadata": {},
   "source": [
    "# First print your name in the cell below then save this file. (or something nice about your instructor)"
   ]
  },
  {
   "cell_type": "code",
   "execution_count": 2,
   "metadata": {},
   "outputs": [
    {
     "name": "stdout",
     "output_type": "stream",
     "text": [
      "Shuang Chi\n"
     ]
    }
   ],
   "source": [
    "# In this cell print your name \n",
    "\n",
    "print(\"Shuang Chi\")"
   ]
  },
  {
   "cell_type": "markdown",
   "metadata": {},
   "source": [
    "# Data wrangling with Pandas exercise\n",
    "* For this exercise we will be using the `listings.csv` data file."
   ]
  },
  {
   "cell_type": "code",
   "execution_count": 8,
   "metadata": {},
   "outputs": [],
   "source": [
    "import pandas as pd\n",
    "import numpy as np"
   ]
  },
  {
   "cell_type": "markdown",
   "metadata": {},
   "source": [
    "# Load in the data file using `pd.read_csv()`"
   ]
  },
  {
   "cell_type": "code",
   "execution_count": 13,
   "metadata": {},
   "outputs": [],
   "source": [
    "# Load data here\n",
    "\n",
    "df=pd.read_csv('/workspaces/ds-fall-2025-tue/Week-01-Pandas/data/listings.csv')"
   ]
  },
  {
   "cell_type": "markdown",
   "metadata": {},
   "source": [
    "## Exercise 2 - Filtering\n",
    "\n",
    "Return the following subsets of the dataframe.\n",
    "\n",
    "1. How many listings are there with a price less than 100? \n",
    "\n",
    "\n",
    "2. Find how many listings there are in just Brooklyn.\n",
    "\n",
    "\n",
    "3. Find how many listings there are in Brooklyn with a price less than 100.\n",
    "\n",
    "\n",
    "4. Using `.isin()` select anyone that has the host name of Michael, David, John, and Daniel.\n",
    "\n",
    "\n",
    "5. Create a new column called `adjusted_price` that has $100 added to every listing in Williamsburg.  The prices for all other listings should be the same as the were before. \n",
    "\n",
    "\n",
    "6. What % of the rooms are private, and what % of the rooms are shared.  \n",
    "    * Hint, use `.value_counts()`\n"
   ]
  },
  {
   "cell_type": "code",
   "execution_count": 15,
   "metadata": {},
   "outputs": [
    {
     "name": "stdout",
     "output_type": "stream",
     "text": [
      "22778\n"
     ]
    }
   ],
   "source": [
    "# 1. How many listings are there with a price less than 100? \n",
    "\n",
    "num_listings_under_100=len(df[df['price']<100])\n",
    "print(num_listings_under_100)\n"
   ]
  },
  {
   "cell_type": "code",
   "execution_count": 30,
   "metadata": {},
   "outputs": [
    {
     "data": {
      "text/plain": [
       "id        name                                                host_id    host_name      neighbourhood_group  neighbourhood       latitude  longitude  room_type        price  minimum_nights  number_of_reviews  last_review  reviews_per_month  calculated_host_listings_count  availability_365\n",
       "3831      Whole flr w/private bdrm, bath & kitchen(pls read)  4869       LisaRoxanne    Brooklyn             Clinton Hill        40.68514  -73.95976  Entire home/apt  75     1               340                2020-08-01   4.75               1                               265                 1\n",
       "5121      BlissArtsSpace!                                     7356       Garon          Brooklyn             Bedford-Stuyvesant  40.68688  -73.95596  Private room     60     29              50                 2019-12-02   0.37               1                               365                 1\n",
       "5136      Spacious Brooklyn Duplex, Patio + Garden            7378       Rebecca        Brooklyn             Sunset Park         40.66120  -73.99423  Entire home/apt  175    14              1                  2014-01-02   0.01               1                               295                 1\n",
       "5803      Lovely Room 1, Garden, Best Area, Legal rental      9744       Laurie         Brooklyn             South Slope         40.66829  -73.98779  Private room     88     4               180                2020-03-18   1.31               3                               344                 1\n",
       "6848      Only 2 stops to Manhattan studio                    15991      Allen & Irina  Brooklyn             Williamsburg        40.70837  -73.95352  Entire home/apt  109    2               181                2020-03-16   1.32               1                               0                   1\n",
       "                                                                                                                                                                                                                                                                                                    ..\n",
       "44435099  Private Room in Apartment You Can Rent in Brooklyn  358933697  Kenday         Brooklyn             East New York       40.67210  -73.87946  Private room     45     1               1                  2020-07-29   1.00               1                               344                 1\n",
       "44445557  Two Bedroom Penthouse W/Balcony and Roof access     13603829   Kazi           Brooklyn             Kensington          40.63592  -73.97307  Entire home/apt  264    1               8                  2020-08-13   8.00               2                               359                 1\n",
       "44461963  Newly Renovated Private Apartment                   143516082  Maria          Brooklyn             Bedford-Stuyvesant  40.68708  -73.95070  Entire home/apt  114    1               1                  2020-08-09   1.00               1                               124                 1\n",
       "44609727  Private room in a big apartment in Brooklyn         310776840  Alejandra      Brooklyn             Bedford-Stuyvesant  40.69146  -73.93433  Private room     40     1               1                  2020-08-09   1.00               4                               228                 1\n",
       "44633340  C.C - Brklyn Small but cozy room close to Subways   361101225  Roger          Brooklyn             Bushwick            40.68650  -73.90841  Private room     46     1               1                  2020-08-10   1.00               4                               364                 1\n",
       "Name: count, Length: 14858, dtype: int64"
      ]
     },
     "execution_count": 30,
     "metadata": {},
     "output_type": "execute_result"
    }
   ],
   "source": [
    "# 2. Make a new DataFrame of listings in Brooklyn named `df_bk` \n",
    "# and find how many listings in just Brooklyn.\n",
    "\n",
    "df_brooklyn=df['neighbourhood_group'] == 'Brooklyn'\n",
    "df_bk=df[df_brooklyn].copy()\n",
    "df_bk.value_counts()\n",
    "\n",
    "\n",
    "\n"
   ]
  },
  {
   "cell_type": "code",
   "execution_count": 29,
   "metadata": {},
   "outputs": [
    {
     "data": {
      "text/plain": [
       "id        name                                                host_id    host_name    neighbourhood_group  neighbourhood       latitude  longitude  room_type        price  minimum_nights  number_of_reviews  last_review  reviews_per_month  calculated_host_listings_count  availability_365\n",
       "3831      Whole flr w/private bdrm, bath & kitchen(pls read)  4869       LisaRoxanne  Brooklyn             Clinton Hill        40.68514  -73.95976  Entire home/apt  75     1               340                2020-08-01   4.75               1                               265                 1\n",
       "5121      BlissArtsSpace!                                     7356       Garon        Brooklyn             Bedford-Stuyvesant  40.68688  -73.95596  Private room     60     29              50                 2019-12-02   0.37               1                               365                 1\n",
       "5803      Lovely Room 1, Garden, Best Area, Legal rental      9744       Laurie       Brooklyn             South Slope         40.66829  -73.98779  Private room     88     4               180                2020-03-18   1.31               3                               344                 1\n",
       "10452     Large B&B Style rooms                               35935      Angela       Brooklyn             Bedford-Stuyvesant  40.68310  -73.95473  Private room     70     3               75                 2019-10-12   0.60               2                               365                 1\n",
       "10962     Lovely Room 2; Garden; Best area, Legal             9744       Laurie       Brooklyn             South Slope         40.66869  -73.98780  Private room     88     4               180                2020-08-03   1.36               3                               365                 1\n",
       "                                                                                                                                                                                                                                                                                                  ..\n",
       "44414370  Fantastic room close to Subways toward Manhattan!   294748832  Bruna        Brooklyn             Bedford-Stuyvesant  40.68064  -73.91836  Private room     42     1               1                  2020-07-30   1.00               4                               178                 1\n",
       "44419098  Über Cozy room in Bushwick                          3731024    Andrew       Brooklyn             Bushwick            40.69702  -73.93239  Private room     65     2               1                  2020-08-09   1.00               1                               365                 1\n",
       "44435099  Private Room in Apartment You Can Rent in Brooklyn  358933697  Kenday       Brooklyn             East New York       40.67210  -73.87946  Private room     45     1               1                  2020-07-29   1.00               1                               344                 1\n",
       "44609727  Private room in a big apartment in Brooklyn         310776840  Alejandra    Brooklyn             Bedford-Stuyvesant  40.69146  -73.93433  Private room     40     1               1                  2020-08-09   1.00               4                               228                 1\n",
       "44633340  C.C - Brklyn Small but cozy room close to Subways   361101225  Roger        Brooklyn             Bushwick            40.68650  -73.90841  Private room     46     1               1                  2020-08-10   1.00               4                               364                 1\n",
       "Name: count, Length: 8234, dtype: int64"
      ]
     },
     "execution_count": 29,
     "metadata": {},
     "output_type": "execute_result"
    }
   ],
   "source": [
    "# 3. Find how many listings there are in Brooklyn with a price less than 100.\n",
    "\n",
    "condition_1=df['neighbourhood_group'] == 'Brooklyn'\n",
    "condition_2=df['price']<100\n",
    "listings_bk=df[condition_1 & condition_2]\n",
    "listings_bk.value_counts()\n"
   ]
  },
  {
   "cell_type": "code",
   "execution_count": 32,
   "metadata": {},
   "outputs": [
    {
     "data": {
      "text/plain": [
       "id        name                                                host_id    host_name  neighbourhood_group  neighbourhood              latitude  longitude  room_type        price  minimum_nights  number_of_reviews  last_review  reviews_per_month  calculated_host_listings_count  availability_365\n",
       "16595     LOFT HAVEN ~ Six Windows ~ Bricks ~ Plants ~ Quiet  64522      Daniel     Brooklyn             Williamsburg               40.70933  -73.96792  Entire home/apt  271    1               172                2020-07-14   1.44               1                               365                 1\n",
       "61747     Cozy,  Brooklyn, Prospect Park Studio               299370     David      Brooklyn             Prospect-Lefferts Gardens  40.65979  -73.96180  Entire home/apt  91     14              97                 2018-01-31   0.83               1                               44                  1\n",
       "62903     Beautiful modern studio apartment in heart of NYC   306605     Daniel     Manhattan            Chelsea                    40.74238  -73.99567  Entire home/apt  205    15              68                 2019-12-14   0.67               2                               89                  1\n",
       "74073     Food & Music Dream Apartment in Williamsburg        211877     Daniel     Brooklyn             Williamsburg               40.71113  -73.96054  Entire home/apt  187    30              90                 2020-07-31   0.81               1                               261                 1\n",
       "138216    Sunny and Spacious Designer's Home                  674970     Michael    Brooklyn             Greenpoint                 40.72212  -73.94254  Entire home/apt  100    6               9                  2019-09-20   0.17               1                               0                   1\n",
       "                                                                                                                                                                                                                                                                                                       ..\n",
       "44081738  Smart & Safe entire home in Staten Island NY        352065598  Daniel     Staten Island        Oakwood                    40.56137  -74.10729  Entire home/apt  70     1               1                  2020-08-09   1.00               1                               256                 1\n",
       "44088976  Spacious oasis - office, private garden, parking    1704370    David      Brooklyn             Clinton Hill               40.68574  -73.96126  Entire home/apt  140    3               1                  2020-07-25   1.00               1                               17                  1\n",
       "44131715  Spotless upper east side full 1 bedroom apartment   118744531  Daniel     Manhattan            Upper East Side            40.76865  -73.95250  Entire home/apt  105    3               2                  2020-08-01   2.00               1                               43                  1\n",
       "44340349  Private Bedroom at a Great Location!!               303446068  John       Manhattan            Upper East Side            40.76150  -73.96198  Private room     81     6               1                  2020-07-29   1.00               1                               365                 1\n",
       "44662157  Flushing Sunshine home #102                         361579037  Daniel     Queens               Flushing                   40.74441  -73.82829  Private room     55     1               3                  2020-08-16   3.00               2                               365                 1\n",
       "Name: count, Length: 948, dtype: int64"
      ]
     },
     "execution_count": 32,
     "metadata": {},
     "output_type": "execute_result"
    }
   ],
   "source": [
    "# 4. Using `.isin()` select anyone that has the host name of Michael, David, John, and Daniel.\n",
    "# How many total are there that have those names\n",
    "hosts=['Michael','David','John','Daniel']\n",
    "condition=df.host_name.isin(hosts)\n",
    "df[condition].value_counts()\n"
   ]
  },
  {
   "cell_type": "code",
   "execution_count": 37,
   "metadata": {},
   "outputs": [
    {
     "data": {
      "text/html": [
       "<div>\n",
       "<style scoped>\n",
       "    .dataframe tbody tr th:only-of-type {\n",
       "        vertical-align: middle;\n",
       "    }\n",
       "\n",
       "    .dataframe tbody tr th {\n",
       "        vertical-align: top;\n",
       "    }\n",
       "\n",
       "    .dataframe thead th {\n",
       "        text-align: right;\n",
       "    }\n",
       "</style>\n",
       "<table border=\"1\" class=\"dataframe\">\n",
       "  <thead>\n",
       "    <tr style=\"text-align: right;\">\n",
       "      <th></th>\n",
       "      <th>neighbourhood</th>\n",
       "      <th>price</th>\n",
       "      <th>adjusted_price</th>\n",
       "    </tr>\n",
       "  </thead>\n",
       "  <tbody>\n",
       "    <tr>\n",
       "      <th>11</th>\n",
       "      <td>Williamsburg</td>\n",
       "      <td>109</td>\n",
       "      <td>209</td>\n",
       "    </tr>\n",
       "    <tr>\n",
       "      <th>15</th>\n",
       "      <td>Williamsburg</td>\n",
       "      <td>299</td>\n",
       "      <td>399</td>\n",
       "    </tr>\n",
       "    <tr>\n",
       "      <th>35</th>\n",
       "      <td>Williamsburg</td>\n",
       "      <td>131</td>\n",
       "      <td>231</td>\n",
       "    </tr>\n",
       "    <tr>\n",
       "      <th>38</th>\n",
       "      <td>Williamsburg</td>\n",
       "      <td>175</td>\n",
       "      <td>275</td>\n",
       "    </tr>\n",
       "    <tr>\n",
       "      <th>42</th>\n",
       "      <td>Williamsburg</td>\n",
       "      <td>80</td>\n",
       "      <td>180</td>\n",
       "    </tr>\n",
       "  </tbody>\n",
       "</table>\n",
       "</div>"
      ],
      "text/plain": [
       "   neighbourhood  price  adjusted_price\n",
       "11  Williamsburg    109             209\n",
       "15  Williamsburg    299             399\n",
       "35  Williamsburg    131             231\n",
       "38  Williamsburg    175             275\n",
       "42  Williamsburg     80             180"
      ]
     },
     "execution_count": 37,
     "metadata": {},
     "output_type": "execute_result"
    }
   ],
   "source": [
    "# 5. Create a new column called `adjusted_price` that has $100 added to every listing in Williamsburg.  \n",
    "# The prices for all other listings should be the same as the were before.\n",
    "\n",
    "df['adjusted_price'] = np.where(\n",
    "    df['neighbourhood'] == 'Williamsburg',   # condition\n",
    "    df['price'] + 100,                       # if True\n",
    "    df['price']                              # if False\n",
    ")\n",
    "df[df['neighbourhood'] == 'Williamsburg'][['neighbourhood', 'price', 'adjusted_price']].head()\n",
    "\n"
   ]
  },
  {
   "cell_type": "code",
   "execution_count": 38,
   "metadata": {},
   "outputs": [
    {
     "name": "stdout",
     "output_type": "stream",
     "text": [
      "room_type\n",
      "Entire home/apt    51.578653\n",
      "Private room       45.444581\n",
      "Shared room         2.121349\n",
      "Hotel room          0.855417\n",
      "Name: count, dtype: float64\n"
     ]
    }
   ],
   "source": [
    "# 6. What % of the rooms are private, and what % of the rooms are shared.  \n",
    "# Count each type\n",
    "counts = df['room_type'].value_counts()\n",
    "\n",
    "# Calculate percentages\n",
    "percentages = counts / counts.sum() * 100\n",
    "\n",
    "print(percentages)\n",
    "\n",
    "\n",
    "\n",
    "\n"
   ]
  },
  {
   "cell_type": "markdown",
   "metadata": {},
   "source": [
    "# Exercise 3 - Grouping\n",
    "\n",
    "1. Using `groupby`, count how many listings are in each neighbourhood_group.\n",
    "\n",
    "\n",
    "2. Using `groupby`, find the mean price for each of the neighbourhood_groups. \n",
    "\n",
    "\n",
    "3. Using `groupby` and `.agg()`, find the min and max price for each of the neighbourhood_groups. \n",
    "\n",
    "\n",
    "4. Using `groupby`, find the median price for each room type in each neighbourhood_group.\n",
    "\n",
    "\n",
    "5. Using `groupby` and `.agg()`, find the count, min, max, mean, median, and std of the prices for each room type in each neighbourhood_group."
   ]
  },
  {
   "cell_type": "code",
   "execution_count": 39,
   "metadata": {},
   "outputs": [
    {
     "name": "stdout",
     "output_type": "stream",
     "text": [
      "neighbourhood_group\n",
      "Bronx             1183\n",
      "Brooklyn         18632\n",
      "Manhattan        20580\n",
      "Queens            5791\n",
      "Staten Island      341\n",
      "dtype: int64\n"
     ]
    }
   ],
   "source": [
    "# 1. Using `groupby`, count how many listings are in each neighbourhood_group.\n",
    "\n",
    "listing_counts = df.groupby('neighbourhood_group').size()\n",
    "\n",
    "print(listing_counts)\n",
    "\n"
   ]
  },
  {
   "cell_type": "code",
   "execution_count": 40,
   "metadata": {},
   "outputs": [
    {
     "name": "stdout",
     "output_type": "stream",
     "text": [
      "neighbourhood_group\n",
      "Bronx             92.751479\n",
      "Brooklyn         120.225258\n",
      "Manhattan        191.880466\n",
      "Queens            99.754965\n",
      "Staten Island    110.947214\n",
      "Name: price, dtype: float64\n"
     ]
    }
   ],
   "source": [
    "# 2. Using `groupby`, find the mean price for each of the neighbourhood_groups. \n",
    "\n",
    "mean_prices = df.groupby('neighbourhood_group')['price'].mean()\n",
    "\n",
    "print(mean_prices)\n",
    "\n"
   ]
  },
  {
   "cell_type": "code",
   "execution_count": 41,
   "metadata": {},
   "outputs": [
    {
     "name": "stdout",
     "output_type": "stream",
     "text": [
      "room_type\n",
      "Entire home/apt    199.395950\n",
      "Hotel room         275.015075\n",
      "Private room        91.453084\n",
      "Shared room         87.063830\n",
      "Name: price, dtype: float64\n"
     ]
    }
   ],
   "source": [
    "# 2.5. Using `groupby`, find the mean price for each room_type. \n",
    "mean_prices=df.groupby('room_type')['price'].mean()\n",
    "print(mean_prices)\n"
   ]
  },
  {
   "cell_type": "code",
   "execution_count": 44,
   "metadata": {},
   "outputs": [
    {
     "name": "stdout",
     "output_type": "stream",
     "text": [
      "                     min    max\n",
      "neighbourhood_group            \n",
      "Bronx                 16   1404\n",
      "Brooklyn               0  10000\n",
      "Manhattan              0  10000\n",
      "Queens                 0  10000\n",
      "Staten Island         19   1200\n"
     ]
    }
   ],
   "source": [
    "# 3. Using `groupby` and `.agg()`, find the min and max price for each of the neighbourhood_groups. \n",
    "\n",
    "gb = df.groupby('neighbourhood_group')['price'].agg(['min', 'max'])\n",
    "print(gb)\n",
    "\n",
    "\n"
   ]
  },
  {
   "cell_type": "code",
   "execution_count": 47,
   "metadata": {},
   "outputs": [
    {
     "name": "stdout",
     "output_type": "stream",
     "text": [
      "neighbourhood_group  room_type      \n",
      "Bronx                Entire home/apt    138.004819\n",
      "                     Private room        68.419668\n",
      "                     Shared room         66.391304\n",
      "Brooklyn             Entire home/apt    171.587687\n",
      "                     Hotel room         147.300000\n",
      "                     Private room        71.291189\n",
      "                     Shared room         57.870091\n",
      "Manhattan            Entire home/apt    231.335572\n",
      "                     Hotel room         292.515670\n",
      "                     Private room       128.277069\n",
      "                     Shared room        111.735084\n",
      "Queens               Entire home/apt    150.168900\n",
      "                     Hotel room         139.058824\n",
      "                     Private room        69.972564\n",
      "                     Shared room         89.891892\n",
      "Staten Island        Entire home/apt    151.720930\n",
      "                     Private room        70.312883\n",
      "                     Shared room         46.000000\n",
      "Name: price, dtype: float64\n"
     ]
    }
   ],
   "source": [
    "# 4. Using `groupby`, find the mean price for each room_type in each neighbourhood_group.\n",
    "gb = df.groupby(['neighbourhood_group','room_type'])['price'].mean()\n",
    "print(gb)"
   ]
  },
  {
   "cell_type": "code",
   "execution_count": 48,
   "metadata": {},
   "outputs": [
    {
     "name": "stdout",
     "output_type": "stream",
     "text": [
      "                                     count  min    max        mean  median  \\\n",
      "neighbourhood_group room_type                                                \n",
      "Bronx               Entire home/apt    415   25   1404  138.004819   103.0   \n",
      "                    Private room       722   16    700   68.419668    55.0   \n",
      "                    Shared room         46   20    800   66.391304    44.0   \n",
      "Brooklyn            Entire home/apt   9112   20  10000  171.587687   135.0   \n",
      "                    Hotel room          30    0    399  147.300000   129.0   \n",
      "                    Private room      9159   10   2500   71.291189    60.0   \n",
      "                    Shared room        331   15   1500   57.870091    36.0   \n",
      "Manhattan           Entire home/apt  12209    0  10000  231.335572   165.0   \n",
      "                    Hotel room         351    0   2211  292.515670   210.0   \n",
      "                    Private room      7601   10  10000  128.277069    80.0   \n",
      "                    Shared room        419   10  10000  111.735084    60.0   \n",
      "Queens              Entire home/apt   2090   10  10000  150.168900   115.0   \n",
      "                    Hotel room          17    0    249  139.058824   149.0   \n",
      "                    Private room      3499   18   9000   69.972564    55.0   \n",
      "                    Shared room        185   14   3000   89.891892    40.0   \n",
      "Staten Island       Entire home/apt    172   39   1200  151.720930   111.0   \n",
      "                    Private room       163   20    800   70.312883    55.0   \n",
      "                    Shared room          6   19     82   46.000000    38.0   \n",
      "\n",
      "                                            std  \n",
      "neighbourhood_group room_type                    \n",
      "Bronx               Entire home/apt  126.032106  \n",
      "                    Private room      57.337866  \n",
      "                    Shared room      114.442703  \n",
      "Brooklyn            Entire home/apt  236.732843  \n",
      "                    Hotel room        91.153206  \n",
      "                    Private room      69.023165  \n",
      "                    Shared room       92.217618  \n",
      "Manhattan           Entire home/apt  410.306439  \n",
      "                    Hotel room       315.924085  \n",
      "                    Private room     448.677306  \n",
      "                    Shared room      502.728868  \n",
      "Queens              Entire home/apt  252.606739  \n",
      "                    Hotel room        50.743806  \n",
      "                    Private room     163.814468  \n",
      "                    Shared room      275.675158  \n",
      "Staten Island       Entire home/apt  147.518392  \n",
      "                    Private room      70.759593  \n",
      "                    Shared room       28.446441  \n"
     ]
    }
   ],
   "source": [
    "# 5. Using `groupby` and `.agg()`, find the count, min, max, mean, median, and std of the prices \n",
    "# for each room type in each neighbourhood_group.\n",
    "\n",
    "stats = df.groupby(['neighbourhood_group', 'room_type'])['price'].agg(['count', 'min', 'max', 'mean', 'median', 'std'])\n",
    "\n",
    "print(stats)\n",
    "\n",
    "\n",
    "\n",
    "\n"
   ]
  },
  {
   "cell_type": "markdown",
   "metadata": {},
   "source": [
    "# Load, Merge, and Export files.\n",
    "1. Load the `prices.csv` and the `n_listings.csv`\n",
    "    * Having an error..? Inspect the actual csv file if you're having trouble\n",
    "\n",
    "2. Do join that keeps all the records for each table.\n",
    "    * Neighbourhood groups should include ['Bronx', 'Brooklyn', 'Manhattan', 'Queens', 'Staten Island',\n",
    "       'LongIsland']\n",
    "\n",
    "       \n",
    "3. Save your joined csv as `joined.csv` into the data folder. \n",
    "\n",
    "\n",
    "4. Load your saved table and see if it looks the same or different that the DataFrame you used to create it. "
   ]
  },
  {
   "cell_type": "code",
   "execution_count": 60,
   "metadata": {},
   "outputs": [
    {
     "name": "stdout",
     "output_type": "stream",
     "text": [
      "Index(['neighbourhood_group', ' mean_price'], dtype='object')\n",
      "Index(['neighbourhood_group;n_listings'], dtype='object')\n"
     ]
    }
   ],
   "source": [
    "# 1. Load the `prices.csv` and the `n_listings.csv`\n",
    "pf=pd.read_csv('/workspaces/ds-fall-2025-tue/Week-01-Pandas/data/prices.csv')\n",
    "nlf=pd.read_csv('/workspaces/ds-fall-2025-tue/Week-01-Pandas/data/n_listings.csv')\n",
    "print(pf.columns)\n",
    "print(nlf.columns)"
   ]
  },
  {
   "cell_type": "code",
   "execution_count": 66,
   "metadata": {},
   "outputs": [
    {
     "name": "stdout",
     "output_type": "stream",
     "text": [
      "  neighbourhood_group   mean_price  n_listings\n",
      "0               Bronx    92.751479        1183\n",
      "1            Brooklyn   120.225258       18632\n",
      "2           Manhattan   191.880466       20580\n"
     ]
    }
   ],
   "source": [
    "# 2. Do join that keeps all the records for each table.\n",
    "\n",
    "nlf = pd.read_csv('/workspaces/ds-fall-2025-tue/Week-01-Pandas/data/n_listings.csv', sep=';')\n",
    "joined_df = pd.merge(pf, nlf, on='neighbourhood_group')\n",
    "\n",
    "print(joined_df.head())\n",
    "\n",
    "\n"
   ]
  },
  {
   "cell_type": "code",
   "execution_count": 67,
   "metadata": {},
   "outputs": [],
   "source": [
    "# 3. Save your joined csv as `joined.csv` into the data folder. \n",
    "\n",
    "joined_df.to_csv('/workspaces/ds-fall-2025-tue/Week-01-Pandas/data/joined.csv', index=False)\n",
    "\n"
   ]
  },
  {
   "cell_type": "code",
   "execution_count": 68,
   "metadata": {},
   "outputs": [
    {
     "name": "stdout",
     "output_type": "stream",
     "text": [
      "  neighbourhood_group   mean_price  n_listings\n",
      "0               Bronx    92.751479        1183\n",
      "1            Brooklyn   120.225258       18632\n",
      "2           Manhattan   191.880466       20580\n"
     ]
    }
   ],
   "source": [
    "# 4. Load your newly saved file, see if it looks the same.  If not, try saving with argument `index=False`\n",
    "reloaded_df = pd.read_csv('/workspaces/ds-fall-2025-tue/Week-01-Pandas/data/joined.csv')\n",
    "print(reloaded_df.head())"
   ]
  },
  {
   "cell_type": "markdown",
   "metadata": {},
   "source": [
    "# Extra Credit\n",
    "Every question below this cell is extra credit and optional."
   ]
  },
  {
   "cell_type": "markdown",
   "metadata": {},
   "source": [
    "### 1. (Easy) Explore this new PandasAI Package and tell me what its all about because I've never used it. \n",
    "* https://www.youtube.com/watch?v=5w6eZaoDVVk&ab_channel=CodingIsFun  \n",
    "* See if you can use it on the listings.csv to find out some cool info. or answer some of the questions above. "
   ]
  },
  {
   "cell_type": "markdown",
   "metadata": {},
   "source": [
    "### 2. (Very Easy) Find other cool Panda packages / add ons and show us what they can do well. And how you installed them. "
   ]
  },
  {
   "cell_type": "markdown",
   "metadata": {},
   "source": [
    "### 3. (Medium) Use the grammys.csv data for the next section of questions.\n",
    "\n",
    "1. Who was won Album of the Year in 2016?\n",
    "\n",
    "\n",
    "2. Who won Best Rap Album in 2009?\n",
    "\n",
    "\n",
    "3. How many awards was Kendrick Lamar nomiated for, and how many did he win...?"
   ]
  },
  {
   "cell_type": "markdown",
   "metadata": {},
   "source": [
    "### (Hard) Load the Game Logs for 2022 and add the column names using a dictionary.  \n",
    "* [Link to the data page](https://www.retrosheet.org/gamelogs/)\n",
    "* [Link to the column names](https://procatinator.com/)\n",
    "* haha, gotta find them yourself!"
   ]
  },
  {
   "cell_type": "markdown",
   "metadata": {},
   "source": [
    "### (Extra Hard) Download the files for the past 5 years into a new folder and add them all into one data frame using pandas, then save that new file.\n",
    "* Try to not hard code in the file names. We want to do this programmatically because what if we want to add new/more file names in the future."
   ]
  },
  {
   "cell_type": "code",
   "execution_count": null,
   "metadata": {},
   "outputs": [],
   "source": []
  }
 ],
 "metadata": {
  "kernelspec": {
   "display_name": "Python 3",
   "language": "python",
   "name": "python3"
  },
  "language_info": {
   "codemirror_mode": {
    "name": "ipython",
    "version": 3
   },
   "file_extension": ".py",
   "mimetype": "text/x-python",
   "name": "python",
   "nbconvert_exporter": "python",
   "pygments_lexer": "ipython3",
   "version": "3.12.1"
  }
 },
 "nbformat": 4,
 "nbformat_minor": 4
}
