{
 "cells": [
  {
   "cell_type": "markdown",
   "id": "15cd454b",
   "metadata": {},
   "source": [
    "# Week 06: Business Statistics & Analytics - E-commerce Analysis\n",
    "\n",
    "## Learning Objectives\n",
    "By the end of this exercise, you will be able to:\n",
    "- Calculate key business metrics using pandas\n",
    "- Create meaningful visualizations for business insights\n",
    "- Apply statistical concepts to real business scenarios\n",
    "- Make data-driven recommendations\n",
    "\n",
    "---\n",
    "\n",
    "## Business Context\n",
    "\n",
    "You're working as a Data Analyst for **TechMart**, an e-commerce company. Your manager needs insights from last quarter's sales data to inform strategic decisions for the upcoming quarter.\n",
    "\n",
    "Your analysis will help answer critical questions about customer behavior, regional performance, and product trends that directly impact business growth."
   ]
  },
  {
   "cell_type": "markdown",
   "id": "023b9e8d",
   "metadata": {},
   "source": [
    "## Dataset Setup\n",
    "\n",
    "First, let's generate the synthetic dataset you'll be analyzing:"
   ]
  },
  {
   "cell_type": "code",
   "execution_count": 31,
   "id": "3608e087",
   "metadata": {},
   "outputs": [
    {
     "name": "stdout",
     "output_type": "stream",
     "text": [
      "✅ Dataset created successfully!\n"
     ]
    },
    {
     "data": {
      "text/html": [
       "<div>\n",
       "<style scoped>\n",
       "    .dataframe tbody tr th:only-of-type {\n",
       "        vertical-align: middle;\n",
       "    }\n",
       "\n",
       "    .dataframe tbody tr th {\n",
       "        vertical-align: top;\n",
       "    }\n",
       "\n",
       "    .dataframe thead th {\n",
       "        text-align: right;\n",
       "    }\n",
       "</style>\n",
       "<table border=\"1\" class=\"dataframe\">\n",
       "  <thead>\n",
       "    <tr style=\"text-align: right;\">\n",
       "      <th></th>\n",
       "      <th>order_id</th>\n",
       "      <th>customer_id</th>\n",
       "      <th>customer_segment</th>\n",
       "      <th>region</th>\n",
       "      <th>order_date</th>\n",
       "      <th>product_category</th>\n",
       "      <th>quantity</th>\n",
       "      <th>unit_price</th>\n",
       "      <th>revenue</th>\n",
       "      <th>discount_applied</th>\n",
       "      <th>payment_method</th>\n",
       "    </tr>\n",
       "  </thead>\n",
       "  <tbody>\n",
       "    <tr>\n",
       "      <th>0</th>\n",
       "      <td>1</td>\n",
       "      <td>52</td>\n",
       "      <td>Student</td>\n",
       "      <td>North</td>\n",
       "      <td>2023-01-01</td>\n",
       "      <td>Clothing</td>\n",
       "      <td>1</td>\n",
       "      <td>42.43</td>\n",
       "      <td>42.43</td>\n",
       "      <td>0</td>\n",
       "      <td>Debit Card</td>\n",
       "    </tr>\n",
       "    <tr>\n",
       "      <th>1</th>\n",
       "      <td>2</td>\n",
       "      <td>93</td>\n",
       "      <td>Student</td>\n",
       "      <td>West</td>\n",
       "      <td>2023-01-02</td>\n",
       "      <td>Sports</td>\n",
       "      <td>1</td>\n",
       "      <td>24.18</td>\n",
       "      <td>24.18</td>\n",
       "      <td>0</td>\n",
       "      <td>Gift Card</td>\n",
       "    </tr>\n",
       "    <tr>\n",
       "      <th>2</th>\n",
       "      <td>3</td>\n",
       "      <td>15</td>\n",
       "      <td>Professional</td>\n",
       "      <td>East</td>\n",
       "      <td>2023-01-03</td>\n",
       "      <td>Sports</td>\n",
       "      <td>3</td>\n",
       "      <td>158.71</td>\n",
       "      <td>476.13</td>\n",
       "      <td>0</td>\n",
       "      <td>Debit Card</td>\n",
       "    </tr>\n",
       "    <tr>\n",
       "      <th>3</th>\n",
       "      <td>4</td>\n",
       "      <td>72</td>\n",
       "      <td>Student</td>\n",
       "      <td>East</td>\n",
       "      <td>2023-01-04</td>\n",
       "      <td>Sports</td>\n",
       "      <td>1</td>\n",
       "      <td>60.42</td>\n",
       "      <td>60.42</td>\n",
       "      <td>0</td>\n",
       "      <td>Credit Card</td>\n",
       "    </tr>\n",
       "    <tr>\n",
       "      <th>4</th>\n",
       "      <td>5</td>\n",
       "      <td>61</td>\n",
       "      <td>Student</td>\n",
       "      <td>West</td>\n",
       "      <td>2023-01-05</td>\n",
       "      <td>Books</td>\n",
       "      <td>3</td>\n",
       "      <td>43.78</td>\n",
       "      <td>131.34</td>\n",
       "      <td>0</td>\n",
       "      <td>Gift Card</td>\n",
       "    </tr>\n",
       "  </tbody>\n",
       "</table>\n",
       "</div>"
      ],
      "text/plain": [
       "   order_id  customer_id customer_segment region order_date product_category  \\\n",
       "0         1           52          Student  North 2023-01-01         Clothing   \n",
       "1         2           93          Student   West 2023-01-02           Sports   \n",
       "2         3           15     Professional   East 2023-01-03           Sports   \n",
       "3         4           72          Student   East 2023-01-04           Sports   \n",
       "4         5           61          Student   West 2023-01-05            Books   \n",
       "\n",
       "   quantity  unit_price  revenue  discount_applied payment_method  \n",
       "0         1       42.43    42.43                 0     Debit Card  \n",
       "1         1       24.18    24.18                 0      Gift Card  \n",
       "2         3      158.71   476.13                 0     Debit Card  \n",
       "3         1       60.42    60.42                 0    Credit Card  \n",
       "4         3       43.78   131.34                 0      Gift Card  "
      ]
     },
     "execution_count": 31,
     "metadata": {},
     "output_type": "execute_result"
    }
   ],
   "source": [
    "\n",
    "import pandas as pd\n",
    "import numpy as np\n",
    "import matplotlib.pyplot as plt\n",
    "import seaborn as sns\n",
    "\n",
    "# Set random seed for reproducible results\n",
    "np.random.seed(42)\n",
    "\n",
    "# Generate 500 orders from 2023\n",
    "n_orders = 500\n",
    "\n",
    "# Create order IDs and customer data\n",
    "order_id = np.arange(1, n_orders + 1)\n",
    "customer_id = np.random.randint(1, 101, size=n_orders)\n",
    "customer_segment = np.random.choice([\"Student\", \"Professional\", \"Senior\"], size=n_orders, p=[0.4, 0.4, 0.2])\n",
    "region = np.random.choice([\"North\", \"South\", \"East\", \"West\"], size=n_orders)\n",
    "order_date = pd.date_range(start=\"2023-01-01\", periods=n_orders, freq=\"D\")\n",
    "product_category = np.random.choice([\"Electronics\", \"Clothing\", \"Books\", \"Home\", \"Sports\"], size=n_orders)\n",
    "quantity = np.random.randint(1, 5, size=n_orders)\n",
    "unit_price = np.round(np.random.uniform(10, 200, size=n_orders), 2)\n",
    "revenue = quantity * unit_price\n",
    "discount_applied = np.random.choice([0, 5, 10, 15, 20, 25, 30], size=n_orders, p=[0.5,0.1,0.1,0.1,0.05,0.05,0.1])\n",
    "payment_method = np.random.choice([\"Credit Card\", \"PayPal\", \"Gift Card\", \"Debit Card\"], size=n_orders)\n",
    "\n",
    "# Build dataframe\n",
    "df = pd.DataFrame({\n",
    "    \"order_id\": order_id,\n",
    "    \"customer_id\": customer_id,\n",
    "    \"customer_segment\": customer_segment,\n",
    "    \"region\": region,\n",
    "    \"order_date\": order_date,\n",
    "    \"product_category\": product_category,\n",
    "    \"quantity\": quantity,\n",
    "    \"unit_price\": unit_price,\n",
    "    \"revenue\": revenue,\n",
    "    \"discount_applied\": discount_applied,\n",
    "    \"payment_method\": payment_method\n",
    "})\n",
    "\n",
    "# Save dataset for reference\n",
    "df.to_csv(\"ecommerce_data.csv\", index=False)\n",
    "print(\"✅ Dataset created successfully!\")\n",
    "\n",
    "# Display first few rows\n",
    "df.head()"
   ]
  },
  {
   "cell_type": "markdown",
   "id": "fbf765c7",
   "metadata": {},
   "source": [
    "## Data Exploration\n",
    "\n",
    "Let's start by understanding our dataset:"
   ]
  },
  {
   "cell_type": "code",
   "execution_count": 32,
   "id": "9ab80b5b",
   "metadata": {},
   "outputs": [
    {
     "name": "stdout",
     "output_type": "stream",
     "text": [
      "Dataset Info:\n",
      "<class 'pandas.core.frame.DataFrame'>\n",
      "RangeIndex: 500 entries, 0 to 499\n",
      "Data columns (total 11 columns):\n",
      " #   Column            Non-Null Count  Dtype  \n",
      "---  ------            --------------  -----  \n",
      " 0   order_id          500 non-null    int64  \n",
      " 1   customer_id       500 non-null    int64  \n",
      " 2   customer_segment  500 non-null    object \n",
      " 3   region            500 non-null    object \n",
      " 4   order_date        500 non-null    object \n",
      " 5   product_category  500 non-null    object \n",
      " 6   quantity          500 non-null    int64  \n",
      " 7   unit_price        500 non-null    float64\n",
      " 8   revenue           500 non-null    float64\n",
      " 9   discount_applied  500 non-null    int64  \n",
      " 10  payment_method    500 non-null    object \n",
      "dtypes: float64(2), int64(4), object(5)\n",
      "memory usage: 43.1+ KB\n",
      "None\n",
      "\n",
      "Dataset Shape: (500, 11)\n",
      "\n",
      "First few rows:\n"
     ]
    },
    {
     "data": {
      "text/html": [
       "<div>\n",
       "<style scoped>\n",
       "    .dataframe tbody tr th:only-of-type {\n",
       "        vertical-align: middle;\n",
       "    }\n",
       "\n",
       "    .dataframe tbody tr th {\n",
       "        vertical-align: top;\n",
       "    }\n",
       "\n",
       "    .dataframe thead th {\n",
       "        text-align: right;\n",
       "    }\n",
       "</style>\n",
       "<table border=\"1\" class=\"dataframe\">\n",
       "  <thead>\n",
       "    <tr style=\"text-align: right;\">\n",
       "      <th></th>\n",
       "      <th>order_id</th>\n",
       "      <th>customer_id</th>\n",
       "      <th>customer_segment</th>\n",
       "      <th>region</th>\n",
       "      <th>order_date</th>\n",
       "      <th>product_category</th>\n",
       "      <th>quantity</th>\n",
       "      <th>unit_price</th>\n",
       "      <th>revenue</th>\n",
       "      <th>discount_applied</th>\n",
       "      <th>payment_method</th>\n",
       "    </tr>\n",
       "  </thead>\n",
       "  <tbody>\n",
       "    <tr>\n",
       "      <th>0</th>\n",
       "      <td>1</td>\n",
       "      <td>52</td>\n",
       "      <td>Student</td>\n",
       "      <td>North</td>\n",
       "      <td>2023-01-01</td>\n",
       "      <td>Clothing</td>\n",
       "      <td>1</td>\n",
       "      <td>42.43</td>\n",
       "      <td>42.43</td>\n",
       "      <td>0</td>\n",
       "      <td>Debit Card</td>\n",
       "    </tr>\n",
       "    <tr>\n",
       "      <th>1</th>\n",
       "      <td>2</td>\n",
       "      <td>93</td>\n",
       "      <td>Student</td>\n",
       "      <td>West</td>\n",
       "      <td>2023-01-02</td>\n",
       "      <td>Sports</td>\n",
       "      <td>1</td>\n",
       "      <td>24.18</td>\n",
       "      <td>24.18</td>\n",
       "      <td>0</td>\n",
       "      <td>Gift Card</td>\n",
       "    </tr>\n",
       "    <tr>\n",
       "      <th>2</th>\n",
       "      <td>3</td>\n",
       "      <td>15</td>\n",
       "      <td>Professional</td>\n",
       "      <td>East</td>\n",
       "      <td>2023-01-03</td>\n",
       "      <td>Sports</td>\n",
       "      <td>3</td>\n",
       "      <td>158.71</td>\n",
       "      <td>476.13</td>\n",
       "      <td>0</td>\n",
       "      <td>Debit Card</td>\n",
       "    </tr>\n",
       "    <tr>\n",
       "      <th>3</th>\n",
       "      <td>4</td>\n",
       "      <td>72</td>\n",
       "      <td>Student</td>\n",
       "      <td>East</td>\n",
       "      <td>2023-01-04</td>\n",
       "      <td>Sports</td>\n",
       "      <td>1</td>\n",
       "      <td>60.42</td>\n",
       "      <td>60.42</td>\n",
       "      <td>0</td>\n",
       "      <td>Credit Card</td>\n",
       "    </tr>\n",
       "    <tr>\n",
       "      <th>4</th>\n",
       "      <td>5</td>\n",
       "      <td>61</td>\n",
       "      <td>Student</td>\n",
       "      <td>West</td>\n",
       "      <td>2023-01-05</td>\n",
       "      <td>Books</td>\n",
       "      <td>3</td>\n",
       "      <td>43.78</td>\n",
       "      <td>131.34</td>\n",
       "      <td>0</td>\n",
       "      <td>Gift Card</td>\n",
       "    </tr>\n",
       "  </tbody>\n",
       "</table>\n",
       "</div>"
      ],
      "text/plain": [
       "   order_id  customer_id customer_segment region  order_date product_category  \\\n",
       "0         1           52          Student  North  2023-01-01         Clothing   \n",
       "1         2           93          Student   West  2023-01-02           Sports   \n",
       "2         3           15     Professional   East  2023-01-03           Sports   \n",
       "3         4           72          Student   East  2023-01-04           Sports   \n",
       "4         5           61          Student   West  2023-01-05            Books   \n",
       "\n",
       "   quantity  unit_price  revenue  discount_applied payment_method  \n",
       "0         1       42.43    42.43                 0     Debit Card  \n",
       "1         1       24.18    24.18                 0      Gift Card  \n",
       "2         3      158.71   476.13                 0     Debit Card  \n",
       "3         1       60.42    60.42                 0    Credit Card  \n",
       "4         3       43.78   131.34                 0      Gift Card  "
      ]
     },
     "execution_count": 32,
     "metadata": {},
     "output_type": "execute_result"
    }
   ],
   "source": [
    "# Load the data\n",
    "data = pd.read_csv(\"ecommerce_data.csv\")\n",
    "\n",
    "# Basic information about the dataset\n",
    "print(\"Dataset Info:\")\n",
    "print(data.info())\n",
    "print(\"\\nDataset Shape:\", data.shape)\n",
    "print(\"\\nFirst few rows:\")\n",
    "data.head()"
   ]
  },
  {
   "cell_type": "code",
   "execution_count": 33,
   "id": "45510b1d",
   "metadata": {},
   "outputs": [
    {
     "name": "stdout",
     "output_type": "stream",
     "text": [
      "Monthly Revenue:\n",
      "month\n",
      "2023-01    6626.66\n",
      "2023-02    6796.03\n",
      "2023-03    8960.10\n",
      "2023-04    7713.47\n",
      "2023-05    7266.80\n",
      "2023-06    7982.47\n",
      "2023-07    7981.65\n",
      "2023-08    6664.64\n",
      "2023-09    9708.06\n",
      "2023-10    7287.27\n",
      "2023-11    8795.85\n",
      "2023-12    8119.44\n",
      "2024-01    7268.59\n",
      "2024-02    8388.91\n",
      "2024-03    6835.73\n",
      "2024-04    7430.29\n",
      "2024-05    4314.71\n",
      "Freq: M, Name: revenue, dtype: float64\n"
     ]
    },
    {
     "data": {
      "image/png": "[encoded data removed]",
      "text/plain": [
       "<Figure size 1000x600 with 1 Axes>"
      ]
     },
     "metadata": {},
     "output_type": "display_data"
    }
   ],
   "source": [
    "# Convert order_date to datetime and add helpful columns\n",
    "data[\"order_date\"] = pd.to_datetime(data[\"order_date\"])\n",
    "data[\"month\"] = data[\"order_date\"].dt.to_period(\"M\")\n",
    "data[\"day_of_week\"] = data[\"order_date\"].dt.day_name()\n",
    "\n",
    "# Example: Revenue by month\n",
    "monthly_revenue = data.groupby(\"month\")[\"revenue\"].sum()\n",
    "print(\"Monthly Revenue:\")\n",
    "print(monthly_revenue)\n",
    "\n",
    "# Plot monthly revenue\n",
    "monthly_revenue.plot(kind=\"bar\", figsize=(10,6), title=\"Monthly Revenue\")\n",
    "plt.ylabel(\"Revenue ($)\")\n",
    "plt.xticks(rotation=45)\n",
    "plt.tight_layout()\n",
    "plt.show()"
   ]
  },
  {
   "cell_type": "markdown",
   "id": "62a50bf3",
   "metadata": {},
   "source": [
    "---\n",
    "\n",
    "## Business Questions\n",
    "\n",
    "Now answer each of the following business questions. Use the starter code above as a reference, and expand your analysis to solve all questions."
   ]
  },
  {
   "cell_type": "markdown",
   "id": "fbb669ad",
   "metadata": {},
   "source": [
    "### 1. Revenue Overview\n",
    "What was the company's total revenue last quarter? Break it down by month."
   ]
  },
  {
   "cell_type": "code",
   "execution_count": 34,
   "id": "12d89265",
   "metadata": {},
   "outputs": [
    {
     "name": "stdout",
     "output_type": "stream",
     "text": [
      "Total revenue in 2024Q2: $11,745.00\n",
      "\n",
      "Monthly breakdown:\n",
      "month\n",
      "2024-04    7430.29\n",
      "2024-05    4314.71\n",
      "Freq: M, Name: revenue, dtype: float64\n"
     ]
    }
   ],
   "source": [
    "# Your code here\n",
    "df[\"revenue\"] = df[\"quantity\"] * df[\"unit_price\"]\n",
    "df[\"order_date\"] = pd.to_datetime(df[\"order_date\"])\n",
    "df[\"quarter\"] = df[\"order_date\"].dt.to_period(\"Q\")\n",
    "df[\"month\"] = df[\"order_date\"].dt.to_period(\"M\")\n",
    "last_quarter = df[\"quarter\"].max()\n",
    "\n",
    "last_quarter_data = df[df[\"quarter\"] == last_quarter]\n",
    "monthly_revenue = last_quarter_data.groupby(\"month\")[\"revenue\"].sum()\n",
    "\n",
    "print(f\"Total revenue in {last_quarter}: ${last_quarter_data['revenue'].sum():,.2f}\")\n",
    "print(\"\\nMonthly breakdown:\")\n",
    "print(monthly_revenue)\n"
   ]
  },
  {
   "cell_type": "markdown",
   "id": "a9b5c29e",
   "metadata": {},
   "source": [
    "### 2. Top Customers\n",
    "Who are the top 5 customers by total revenue contribution?"
   ]
  },
  {
   "cell_type": "code",
   "execution_count": 35,
   "id": "75147e3f",
   "metadata": {},
   "outputs": [
    {
     "name": "stdout",
     "output_type": "stream",
     "text": [
      "Top 5 Customers by Total Revenue:\n",
      "customer_id\n",
      "62    4448.39\n",
      "24    3369.44\n",
      "90    2976.78\n",
      "92    2838.74\n",
      "97    2835.62\n",
      "Name: revenue, dtype: float64\n"
     ]
    }
   ],
   "source": [
    "# Your code here\n",
    "top_customers = df.groupby(\"customer_id\")[\"revenue\"].sum().nlargest(5)\n",
    "\n",
    "print(\"Top 5 Customers by Total Revenue:\")\n",
    "print(top_customers)"
   ]
  },
  {
   "cell_type": "markdown",
   "id": "3ce59b98",
   "metadata": {},
   "source": [
    "### 3. Segment Analysis\n",
    "Which customer segment (Student, Professional, Senior) spends the most on average per order?"
   ]
  },
  {
   "cell_type": "code",
   "execution_count": 39,
   "id": "6fa0576d",
   "metadata": {},
   "outputs": [
    {
     "name": "stdout",
     "output_type": "stream",
     "text": [
      "Average spend per order by customer segment:\n",
      "customer_segment\n",
      "Senior          262.133925\n",
      "Professional    255.652674\n",
      "Student         253.812087\n",
      "Name: revenue, dtype: float64\n",
      "Seniros spend the most on average per order.\n"
     ]
    }
   ],
   "source": [
    "# Your code here\n",
    "avg_spend = df.groupby(\"customer_segment\")[\"revenue\"].mean().sort_values(ascending=False)\n",
    "\n",
    "print(\"Average spend per order by customer segment:\")\n",
    "print(avg_spend)\n",
    "print(\"Seniros spend the most on average per order.\")"
   ]
  },
  {
   "cell_type": "markdown",
   "id": "507ae942",
   "metadata": {},
   "source": [
    "### 4. Regional Trends\n",
    "Which region generated the highest revenue? Which region had the highest average order size?"
   ]
  },
  {
   "cell_type": "code",
   "execution_count": null,
   "id": "91f5071a",
   "metadata": {},
   "outputs": [
    {
     "data": {
      "text/html": [
       "<div>\n",
       "<style scoped>\n",
       "    .dataframe tbody tr th:only-of-type {\n",
       "        vertical-align: middle;\n",
       "    }\n",
       "\n",
       "    .dataframe tbody tr th {\n",
       "        vertical-align: top;\n",
       "    }\n",
       "\n",
       "    .dataframe thead th {\n",
       "        text-align: right;\n",
       "    }\n",
       "</style>\n",
       "<table border=\"1\" class=\"dataframe\">\n",
       "  <thead>\n",
       "    <tr style=\"text-align: right;\">\n",
       "      <th></th>\n",
       "      <th>total_rev</th>\n",
       "      <th>avg_order</th>\n",
       "    </tr>\n",
       "    <tr>\n",
       "      <th>region</th>\n",
       "      <th></th>\n",
       "      <th></th>\n",
       "    </tr>\n",
       "  </thead>\n",
       "  <tbody>\n",
       "    <tr>\n",
       "      <th>East</th>\n",
       "      <td>31221.80</td>\n",
       "      <td>240.167692</td>\n",
       "    </tr>\n",
       "    <tr>\n",
       "      <th>North</th>\n",
       "      <td>34351.69</td>\n",
       "      <td>258.283383</td>\n",
       "    </tr>\n",
       "    <tr>\n",
       "      <th>South</th>\n",
       "      <td>34839.45</td>\n",
       "      <td>274.326378</td>\n",
       "    </tr>\n",
       "    <tr>\n",
       "      <th>West</th>\n",
       "      <td>27727.73</td>\n",
       "      <td>252.070273</td>\n",
       "    </tr>\n",
       "  </tbody>\n",
       "</table>\n",
       "</div>"
      ],
      "text/plain": [
       "        total_rev   avg_order\n",
       "region                       \n",
       "East     31221.80  240.167692\n",
       "North    34351.69  258.283383\n",
       "South    34839.45  274.326378\n",
       "West     27727.73  252.070273"
      ]
     },
     "execution_count": 37,
     "metadata": {},
     "output_type": "execute_result"
    }
   ],
   "source": [
    "# Your code here\n",
    "df.groupby(\"region\").agg(total_rev=(\"revenue\", \"sum\"), avg_order=(\"revenue\", \"mean\"))\n",
    "print(\"The East region has the highest total revenue, while the South region has the highest average order value.\")\n"
   ]
  },
  {
   "cell_type": "markdown",
   "id": "5b7e51d1",
   "metadata": {},
   "source": [
    "### 5. Product Category Performance\n",
    "Which product category is most popular by quantity vs. by revenue?"
   ]
  },
  {
   "cell_type": "code",
   "execution_count": 40,
   "id": "1041c72c",
   "metadata": {},
   "outputs": [
    {
     "name": "stdout",
     "output_type": "stream",
     "text": [
      "Product Category Performance:\n",
      "                  quantity   revenue\n",
      "product_category                    \n",
      "Home                   269  29871.47\n",
      "Electronics            239  25498.31\n",
      "Clothing               253  24804.57\n",
      "Books                  227  24046.06\n",
      "Sports                 246  23920.26\n",
      "Home products have the highest revenue and quantity sold.\n"
     ]
    }
   ],
   "source": [
    "# Your code here\n",
    "category_perf = (\n",
    "    df.groupby(\"product_category\")[[\"quantity\", \"revenue\"]]\n",
    "      .sum()\n",
    "      .sort_values(\"revenue\", ascending=False)\n",
    ")\n",
    "\n",
    "print(\"Product Category Performance:\")\n",
    "print(category_perf)\n",
    "print(\"Home products have the highest revenue and quantity sold.\")"
   ]
  },
  {
   "cell_type": "markdown",
   "id": "bc82f78d",
   "metadata": {},
   "source": [
    "### 6. Discount Effectiveness\n",
    "Do discounted orders generate higher or lower revenue per order compared to non-discounted orders?"
   ]
  },
  {
   "cell_type": "code",
   "execution_count": 25,
   "id": "7cb097dc",
   "metadata": {},
   "outputs": [
    {
     "name": "stdout",
     "output_type": "stream",
     "text": [
      "Average Revenue (Discounted Orders): $263.83\n",
      "Average Revenue (Non-Discounted Orders): $248.30\n",
      "\n",
      "Discounted orders generate *higher* revenue per order.\n"
     ]
    }
   ],
   "source": [
    "# Your code here\n",
    "discounted_orders = data[data[\"discount_applied\"] > 0]\n",
    "nondiscounted_orders = data[data[\"discount_applied\"] == 0]\n",
    "avg_revenue_discounted = discounted_orders[\"revenue\"].mean()\n",
    "avg_revenue_nondiscounted = nondiscounted_orders[\"revenue\"].mean()\n",
    "print(f\"Average Revenue (Discounted Orders): ${avg_revenue_discounted:.2f}\")\n",
    "print(f\"Average Revenue (Non-Discounted Orders): ${avg_revenue_nondiscounted:.2f}\")\n",
    "\n",
    "# Compare difference\n",
    "if avg_revenue_discounted > avg_revenue_nondiscounted:\n",
    "    print(\"\\nDiscounted orders generate *higher* revenue per order.\")\n",
    "else:\n",
    "    print(\"\\nDiscounted orders generate *lower* revenue per order.\")\n",
    "\n"
   ]
  },
  {
   "cell_type": "markdown",
   "id": "a495feba",
   "metadata": {},
   "source": [
    "### 7. Payment Method Usage\n",
    "What percentage of orders use each payment method? Does any payment method correlate with higher spending?"
   ]
  },
  {
   "cell_type": "code",
   "execution_count": 28,
   "id": "64b6f2b9",
   "metadata": {},
   "outputs": [
    {
     "name": "stdout",
     "output_type": "stream",
     "text": [
      "Percentage of orders by payment method:\n",
      "payment_method\n",
      "Credit Card    27.4\n",
      "Gift Card      24.8\n",
      "Debit Card     24.6\n",
      "PayPal         23.2\n",
      "Name: proportion, dtype: float64\n",
      "\n",
      "Average revenue per order by payment method:\n",
      "payment_method\n",
      "Debit Card     275.980650\n",
      "Credit Card    257.444234\n",
      "Gift Card      254.362500\n",
      "PayPal         236.071034\n",
      "Name: revenue, dtype: float64\n"
     ]
    }
   ],
   "source": [
    "# Your code here\n",
    "payment_percent = (df[\"payment_method\"].value_counts(normalize=True) * 100).round(2)\n",
    "payment_avg_revenue = df.groupby(\"payment_method\")[\"revenue\"].mean().sort_values(ascending=False)\n",
    "\n",
    "print(\"Percentage of orders by payment method:\")\n",
    "print(payment_percent)\n",
    "print(\"\\nAverage revenue per order by payment method:\")\n",
    "print(payment_avg_revenue)"
   ]
  },
  {
   "cell_type": "markdown",
   "id": "a525cd28",
   "metadata": {},
   "source": [
    "### 8. Seasonality Check\n",
    "Plot revenue by day of week — are weekends busier than weekdays?"
   ]
  },
  {
   "cell_type": "code",
   "execution_count": 41,
   "id": "594adf29",
   "metadata": {},
   "outputs": [
    {
     "name": "stdout",
     "output_type": "stream",
     "text": [
      "Revenue by Day of Week:\n",
      "day_of_week\n",
      "Monday       17704.70\n",
      "Tuesday      18968.41\n",
      "Wednesday    18908.21\n",
      "Thursday     17846.36\n",
      "Friday       18522.40\n",
      "Saturday     18660.35\n",
      "Sunday       17530.24\n",
      "Name: revenue, dtype: float64\n",
      "weekdays and weekends have similar revenues.\n"
     ]
    }
   ],
   "source": [
    "# Your code here\n",
    "df[\"order_date\"] = pd.to_datetime(df[\"order_date\"])\n",
    "df[\"day_of_week\"] = df[\"order_date\"].dt.day_name()\n",
    "\n",
    "revenue_by_day = df.groupby(\"day_of_week\")[\"revenue\"].sum().reindex(\n",
    "    [\"Monday\", \"Tuesday\", \"Wednesday\", \"Thursday\", \"Friday\", \"Saturday\", \"Sunday\"]\n",
    ")\n",
    "\n",
    "print(\"Revenue by Day of Week:\")\n",
    "print(revenue_by_day)\n",
    "print(\"weekdays and weekends have similar revenues.\")\n"
   ]
  },
  {
   "cell_type": "markdown",
   "id": "08ae2706",
   "metadata": {},
   "source": [
    "### 9. Profitability (Stretch)\n",
    "Assume profit margin = 20% of revenue. Estimate total profit and identify the most profitable region."
   ]
  },
  {
   "cell_type": "code",
   "execution_count": 42,
   "id": "490e9ee2",
   "metadata": {},
   "outputs": [
    {
     "name": "stdout",
     "output_type": "stream",
     "text": [
      "Total Profit: $25,628.13\n",
      "\n",
      "Profit by Region:\n",
      "region\n",
      "South    6967.890\n",
      "North    6870.338\n",
      "East     6244.360\n",
      "West     5545.546\n",
      "Name: profit, dtype: float64\n",
      "\n",
      "Most Profitable Region: South\n"
     ]
    }
   ],
   "source": [
    "# Your code here\n",
    "\n",
    "data[\"profit\"] = data[\"revenue\"] * 0.20\n",
    "\n",
    "total_profit = data[\"profit\"].sum()\n",
    "\n",
    "profit_by_region = data.groupby(\"region\")[\"profit\"].sum().sort_values(ascending=False)\n",
    "most_profitable_region = profit_by_region.idxmax()\n",
    "\n",
    "print(f\"Total Profit: ${total_profit:,.2f}\")\n",
    "print(\"\\nProfit by Region:\")\n",
    "print(profit_by_region)\n",
    "print(f\"\\nMost Profitable Region: {most_profitable_region}\")\n"
   ]
  },
  {
   "cell_type": "markdown",
   "id": "259fe6f7",
   "metadata": {},
   "source": [
    "### 10. Business Recommendation\n",
    "Based on your findings, recommend one strategy (e.g., focus on certain customer segments, increase discounts, promote specific regions/products)."
   ]
  },
  {
   "cell_type": "code",
   "execution_count": 43,
   "id": "9eaba8e2",
   "metadata": {},
   "outputs": [],
   "source": [
    "# The business should focus its marketing and sales efforts on professional and senior customer segments in the south and north regions"
   ]
  },
  {
   "cell_type": "markdown",
   "id": "9415b35d",
   "metadata": {},
   "source": [
    "**Your recommendation here:**\n",
    "\n",
    "Write your analysis and recommendation based on the insights you discovered from the data."
   ]
  },
  {
   "cell_type": "markdown",
   "id": "9d86796a",
   "metadata": {},
   "source": [
    "---\n",
    "\n",
    "## Submission Requirements\n",
    "\n",
    "1. **Complete code** for all 10 questions\n",
    "2. **Clear visualizations** where appropriate  \n",
    "3. **Brief interpretation** of each result\n",
    "4. **Final business recommendation** with supporting data\n",
    "\n",
    "Remember: Focus on what the numbers tell us about the business, not just the calculations themselves."
   ]
  }
 ],
 "metadata": {
  "kernelspec": {
   "display_name": "Python 3",
   "language": "python",
   "name": "python3"
  },
  "language_info": {
   "codemirror_mode": {
    "name": "ipython",
    "version": 3
   },
   "file_extension": ".py",
   "mimetype": "text/x-python",
   "name": "python",
   "nbconvert_exporter": "python",
   "pygments_lexer": "ipython3",
   "version": "3.12.1"
  }
 },
 "nbformat": 4,
 "nbformat_minor": 5
}
