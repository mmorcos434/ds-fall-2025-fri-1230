{
 "cells": [
  {
   "cell_type": "code",
   "execution_count": 4,
   "id": "5e661698",
   "metadata": {},
   "outputs": [],
   "source": [
    "# Import our libraries \n",
    "\n",
    "# Pandas and numpy for data wrangling\n",
    "import pandas as pd\n",
    "import numpy as np\n",
    "\n",
    "# Seaborn / matplotlib for visualization \n",
    "import seaborn as sns\n",
    "import matplotlib.pyplot as plt\n",
    "\n",
    "# Helper function to split our data\n",
    "from sklearn.model_selection import train_test_split\n",
    "# This is our Logit model\n",
    "from sklearn.linear_model import LogisticRegression\n",
    "# Helper fuctions to evaluate our model.\n",
    "from sklearn.metrics import accuracy_score, precision_score, recall_score, confusion_matrix, classification_report, f1_score\n",
    "\n",
    "\n",
    "\n",
    "import pandas as pd\n",
    "import numpy as np\n",
    "from sklearn.model_selection import train_test_split\n",
    "import statsmodels.api as sm\n",
    "\n"
   ]
  },
  {
   "cell_type": "markdown",
   "id": "61e64e2e",
   "metadata": {},
   "source": [
    "## ChatGPTs Version of this code... \n",
    "Who can spot the little huge mistake...."
   ]
  },
  {
   "cell_type": "code",
   "execution_count": null,
   "id": "a96e9a01",
   "metadata": {},
   "outputs": [
    {
     "name": "stdout",
     "output_type": "stream",
     "text": [
      "Optimization terminated successfully.\n",
      "         Current function value: 0.443097\n",
      "         Iterations 7\n"
     ]
    },
    {
     "ename": "NameError",
     "evalue": "name 'accuracy_score' is not defined",
     "output_type": "error",
     "traceback": [
      "\u001b[31m---------------------------------------------------------------------------\u001b[39m",
      "\u001b[31mNameError\u001b[39m                                 Traceback (most recent call last)",
      "\u001b[36mCell\u001b[39m\u001b[36m \u001b[39m\u001b[32mIn[1]\u001b[39m\u001b[32m, line 46\u001b[39m\n\u001b[32m     40\u001b[39m y_pred = np.where(y_pred_prob > \u001b[32m0.5\u001b[39m, \u001b[32m1\u001b[39m, \u001b[32m0\u001b[39m)  \u001b[38;5;66;03m# Convert probabilities to binary predictions (using 0.5 as threshold)\u001b[39;00m\n\u001b[32m     42\u001b[39m \u001b[38;5;66;03m###################################### \u001b[39;00m\n\u001b[32m     43\u001b[39m \u001b[38;5;66;03m##################### EVALUATE \u001b[39;00m\n\u001b[32m     44\u001b[39m \n\u001b[32m     45\u001b[39m \u001b[38;5;66;03m# ACCURACY\u001b[39;00m\n\u001b[32m---> \u001b[39m\u001b[32m46\u001b[39m accuracy = \u001b[43maccuracy_score\u001b[49m(y_test, y_pred)\n\u001b[32m     47\u001b[39m \u001b[38;5;28mprint\u001b[39m(\u001b[33m\"\u001b[39m\u001b[33mAccuracy Score: \u001b[39m\u001b[38;5;132;01m%f\u001b[39;00m\u001b[33m\"\u001b[39m % accuracy)\n\u001b[32m     49\u001b[39m \u001b[38;5;66;03m# F1 ACCURACY\u001b[39;00m\n",
      "\u001b[31mNameError\u001b[39m: name 'accuracy_score' is not defined"
     ]
    }
   ],
   "source": [
    "\n",
    "# Load and Inspect\n",
    "df = pd.read_csv('data/titanic.csv')\n",
    "\n",
    "# Inspect, we did this in the previous lecture file. \n",
    "\n",
    "# Select and Engineer. \n",
    "features = ['age', 'sex_male']\n",
    "target = 'survived'\n",
    "\n",
    "# Drop rows with missing target or missing important features\n",
    "df.dropna(inplace=True)\n",
    "\n",
    "# Convert categorical variables to dummy variables (one-hot encoding)\n",
    "df = pd.get_dummies(df, columns=['sex', 'pclass'], dtype=int, drop_first=True)\n",
    "\n",
    "# Define Features and Target\n",
    "X = df[features]  \n",
    "y = df[target]\n",
    "\n",
    "\n",
    "# Split the Dataset into Training and Testing Sets\n",
    "X_train, X_test, y_train, y_test = train_test_split(X, y, test_size=0.3, random_state=42)\n",
    "\n",
    "# # Adding a constant term for intercept \n",
    "X_train_sm = sm.add_constant(X_train)   \n",
    "\n",
    "\n",
    "# Fit the Logistic Regression Model using Statsmodels\n",
    "logit_model = sm.Logit(endog=y_train, exog=X_train_sm)\n",
    "result = logit_model.fit()\n",
    "\n",
    "# Make Predictions on the Test Set\n",
    "X_test_sm = sm.add_constant(X_test)  # Adding constant to test data\n",
    "y_pred_prob = result.predict(X_test_sm)  # Predicting probabilities\n",
    "y_pred = np.where(y_pred_prob > 0.5, 1, 0)  # Convert probabilities to binary predictions (using 0.5 as threshold)\n",
    "\n",
    "###################################### \n",
    "##################### EVALUATE \n",
    "\n",
    "# ACCURACY\n",
    "accuracy = accuracy_score(y_test, y_pred)\n",
    "print(\"Accuracy Score: %f\" % accuracy)\n",
    "\n",
    "# F1 ACCURACY\n",
    "f1 = f1_score(y_test, y_pred)\n",
    "print(\"F1 Score: %f\" % f1)\n",
    "\n",
    "\n",
    "# CONFUSION MATRIX\n",
    "cm = confusion_matrix(y_test, y_pred)\n",
    "fig = plt.figure(figsize=(5,5))\n",
    "ax = sns.heatmap(cm, annot=True, cmap='Greens', fmt='g')\n",
    "plt.ylabel('Ground Truth')\n",
    "plt.xlabel('Model Prediction');\n",
    "\n",
    "\n",
    "\n",
    "# Add to our dataframe to interprept \n",
    "X_test_sm['y_pred_proba'] = y_pred_prob\n",
    "X_test_sm['y_pred'] = y_pred\n",
    "\n",
    "# Print the summary of the model\n",
    "print(result.summary())\n",
    "\n",
    "print(classification_report(y_pred, y_test))"
   ]
  },
  {
   "cell_type": "markdown",
   "id": "12a66861",
   "metadata": {},
   "source": []
  },
  {
   "cell_type": "code",
   "execution_count": null,
   "id": "c52d01a2",
   "metadata": {},
   "outputs": [],
   "source": []
  }
 ],
 "metadata": {
  "kernelspec": {
   "display_name": "Python 3",
   "language": "python",
   "name": "python3"
  },
  "language_info": {
   "codemirror_mode": {
    "name": "ipython",
    "version": 3
   },
   "file_extension": ".py",
   "mimetype": "text/x-python",
   "name": "python",
   "nbconvert_exporter": "python",
   "pygments_lexer": "ipython3",
   "version": "3.13.7"
  }
 },
 "nbformat": 4,
 "nbformat_minor": 5
}
